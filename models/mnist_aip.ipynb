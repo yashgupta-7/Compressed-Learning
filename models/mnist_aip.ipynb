{
  "nbformat": 4,
  "nbformat_minor": 0,
  "metadata": {
    "colab": {
      "name": "mnist-aip.ipynb",
      "provenance": [],
      "collapsed_sections": []
    },
    "kernelspec": {
      "name": "python3",
      "display_name": "Python 3"
    }
  },
  "cells": [
    {
      "cell_type": "code",
      "metadata": {
        "id": "L4pvKb8AQisu",
        "colab_type": "code",
        "colab": {
          "base_uri": "https://localhost:8080/",
          "height": 68
        },
        "outputId": "c88abb46-0812-4b17-a1a7-827bfe02633f"
      },
      "source": [
        "from keras.datasets import mnist\n",
        "(x_train_o, y_train), (x_test_o, y_test) = mnist.load_data()\n",
        "x_train_o=x_train_o.astype(float)\n",
        "x_test_o=x_test_o.astype(float)"
      ],
      "execution_count": 1,
      "outputs": [
        {
          "output_type": "stream",
          "text": [
            "Using TensorFlow backend.\n"
          ],
          "name": "stderr"
        },
        {
          "output_type": "stream",
          "text": [
            "Downloading data from https://s3.amazonaws.com/img-datasets/mnist.npz\n",
            "11493376/11490434 [==============================] - 1s 0us/step\n"
          ],
          "name": "stdout"
        }
      ]
    },
    {
      "cell_type": "code",
      "metadata": {
        "id": "LJtqPdiDi9aq",
        "colab_type": "code",
        "outputId": "119b1c20-6309-46ae-cf3e-7fc78868bf02",
        "colab": {
          "base_uri": "https://localhost:8080/",
          "height": 85
        }
      },
      "source": [
        "print(x_train_o.shape)\n",
        "print(y_train.shape)\n",
        "print(x_test_o.shape)\n",
        "print(y_test.shape)"
      ],
      "execution_count": 2,
      "outputs": [
        {
          "output_type": "stream",
          "text": [
            "(60000, 28, 28)\n",
            "(60000,)\n",
            "(10000, 28, 28)\n",
            "(10000,)\n"
          ],
          "name": "stdout"
        }
      ]
    },
    {
      "cell_type": "code",
      "metadata": {
        "id": "1jx_iCwdg-nY",
        "colab_type": "code",
        "outputId": "3412ce65-dfaf-491d-d2ab-f258c041467b",
        "colab": {
          "base_uri": "https://localhost:8080/",
          "height": 51
        }
      },
      "source": [
        "# print(np.sum(y_train==3))\n",
        "# l_tr=np.where(y_train==3)\n",
        "# l2_tr=np.where(y_train!=3)\n",
        "# print(y_train[l_tr][1:5])"
      ],
      "execution_count": 0,
      "outputs": [
        {
          "output_type": "stream",
          "text": [
            "6131\n",
            "[3 3 3 3]\n"
          ],
          "name": "stdout"
        }
      ]
    },
    {
      "cell_type": "code",
      "metadata": {
        "id": "SJBs_QFXSJdO",
        "colab_type": "code",
        "outputId": "167e24a4-6a4e-46c4-a637-42c0f797a712",
        "colab": {
          "base_uri": "https://localhost:8080/",
          "height": 68
        }
      },
      "source": [
        "import numpy as np\n",
        "print(np.shape(x_train_o))\n",
        "print(np.shape(y_train))\n",
        "x_train = np.reshape(x_train_o, (60000, 784))\n",
        "print(np.shape(x_train))"
      ],
      "execution_count": 3,
      "outputs": [
        {
          "output_type": "stream",
          "text": [
            "(60000, 28, 28)\n",
            "(60000,)\n",
            "(60000, 784)\n"
          ],
          "name": "stdout"
        }
      ]
    },
    {
      "cell_type": "code",
      "metadata": {
        "id": "Y6-TKfQOVydv",
        "colab_type": "code",
        "colab": {}
      },
      "source": [
        "from sklearn.utils import shuffle\n",
        "x_train, y_train = shuffle(x_train, y_train)"
      ],
      "execution_count": 0,
      "outputs": []
    },
    {
      "cell_type": "code",
      "metadata": {
        "id": "9he45UJDUyTH",
        "colab_type": "code",
        "outputId": "675782a1-5556-406f-c106-de5fbe64ee92",
        "colab": {
          "base_uri": "https://localhost:8080/",
          "height": 68
        }
      },
      "source": [
        "ns = 500\n",
        "l_tr=np.where(y_train==3)\n",
        "l2_tr=np.where(y_train!=3)\n",
        "x_train_d=np.array(x_train)\n",
        "y_train_d=np.array(y_train)\n",
        "print(y_train_d.shape)\n",
        "print(x_train_d.shape)\n",
        "x_train[0:ns//2][:] = x_train_d[l_tr[0][0:ns//2]][:]\n",
        "y_train[0:ns//2]= y_train_d[l_tr[0][0:ns//2]]\n",
        "x_train[ns//2:ns][:] = x_train_d[l2_tr[0][0:ns//2]][:]\n",
        "y_train[ns//2:ns]= y_train_d[l2_tr[0][0:ns//2]][:]\n",
        "print(np.sum(y_train==3))"
      ],
      "execution_count": 5,
      "outputs": [
        {
          "output_type": "stream",
          "text": [
            "(60000,)\n",
            "(60000, 784)\n",
            "6321\n"
          ],
          "name": "stdout"
        }
      ]
    },
    {
      "cell_type": "code",
      "metadata": {
        "id": "uCYPe8Xtqd1G",
        "colab_type": "code",
        "outputId": "1415908a-45e9-4de3-9dc1-2b85e4092014",
        "colab": {
          "base_uri": "https://localhost:8080/",
          "height": 272
        }
      },
      "source": [
        "y_train=y_train[0:ns]\n",
        "x_train=x_train[0:ns][:]\n",
        "\n",
        "y_train[0:ns//2]=1\n",
        "y_train[ns//2:ns]=0\n",
        "print(y_train)\n",
        "print(x_train.shape)"
      ],
      "execution_count": 6,
      "outputs": [
        {
          "output_type": "stream",
          "text": [
            "[1 1 1 1 1 1 1 1 1 1 1 1 1 1 1 1 1 1 1 1 1 1 1 1 1 1 1 1 1 1 1 1 1 1 1 1 1\n",
            " 1 1 1 1 1 1 1 1 1 1 1 1 1 1 1 1 1 1 1 1 1 1 1 1 1 1 1 1 1 1 1 1 1 1 1 1 1\n",
            " 1 1 1 1 1 1 1 1 1 1 1 1 1 1 1 1 1 1 1 1 1 1 1 1 1 1 1 1 1 1 1 1 1 1 1 1 1\n",
            " 1 1 1 1 1 1 1 1 1 1 1 1 1 1 1 1 1 1 1 1 1 1 1 1 1 1 1 1 1 1 1 1 1 1 1 1 1\n",
            " 1 1 1 1 1 1 1 1 1 1 1 1 1 1 1 1 1 1 1 1 1 1 1 1 1 1 1 1 1 1 1 1 1 1 1 1 1\n",
            " 1 1 1 1 1 1 1 1 1 1 1 1 1 1 1 1 1 1 1 1 1 1 1 1 1 1 1 1 1 1 1 1 1 1 1 1 1\n",
            " 1 1 1 1 1 1 1 1 1 1 1 1 1 1 1 1 1 1 1 1 1 1 1 1 1 1 1 1 0 0 0 0 0 0 0 0 0\n",
            " 0 0 0 0 0 0 0 0 0 0 0 0 0 0 0 0 0 0 0 0 0 0 0 0 0 0 0 0 0 0 0 0 0 0 0 0 0\n",
            " 0 0 0 0 0 0 0 0 0 0 0 0 0 0 0 0 0 0 0 0 0 0 0 0 0 0 0 0 0 0 0 0 0 0 0 0 0\n",
            " 0 0 0 0 0 0 0 0 0 0 0 0 0 0 0 0 0 0 0 0 0 0 0 0 0 0 0 0 0 0 0 0 0 0 0 0 0\n",
            " 0 0 0 0 0 0 0 0 0 0 0 0 0 0 0 0 0 0 0 0 0 0 0 0 0 0 0 0 0 0 0 0 0 0 0 0 0\n",
            " 0 0 0 0 0 0 0 0 0 0 0 0 0 0 0 0 0 0 0 0 0 0 0 0 0 0 0 0 0 0 0 0 0 0 0 0 0\n",
            " 0 0 0 0 0 0 0 0 0 0 0 0 0 0 0 0 0 0 0 0 0 0 0 0 0 0 0 0 0 0 0 0 0 0 0 0 0\n",
            " 0 0 0 0 0 0 0 0 0 0 0 0 0 0 0 0 0 0 0]\n",
            "(500, 784)\n"
          ],
          "name": "stdout"
        }
      ]
    },
    {
      "cell_type": "code",
      "metadata": {
        "id": "r-uJP0LAU-vq",
        "colab_type": "code",
        "outputId": "24dc064c-17d5-4f81-b546-b8952c62ed8a",
        "colab": {
          "base_uri": "https://localhost:8080/",
          "height": 51
        }
      },
      "source": [
        "for x in np.unique(y_train):\n",
        "  print(np.shape(y_train[y_train==x])[0]/ns)"
      ],
      "execution_count": 7,
      "outputs": [
        {
          "output_type": "stream",
          "text": [
            "0.5\n",
            "0.5\n"
          ],
          "name": "stdout"
        }
      ]
    },
    {
      "cell_type": "code",
      "metadata": {
        "id": "GDX5Jyv_0ctm",
        "colab_type": "code",
        "colab": {}
      },
      "source": [
        "x_train, y_train = shuffle(x_train, y_train)"
      ],
      "execution_count": 0,
      "outputs": []
    },
    {
      "cell_type": "code",
      "metadata": {
        "id": "I47jiSqXRc-2",
        "colab_type": "code",
        "outputId": "15e3903e-5096-41cc-a77f-2af6186fc672",
        "colab": {
          "base_uri": "https://localhost:8080/",
          "height": 102
        }
      },
      "source": [
        "from sklearn.svm import SVC\n",
        "from sklearn.model_selection import GridSearchCV, StratifiedKFold\n",
        "\n",
        "kfold = StratifiedKFold(n_splits=10)\n",
        "\n",
        "svclassifier = SVC()\n",
        "svc_param_grid = {'kernel': ['linear'],\n",
        "                  'C': [0.01, 0.1, 1, 10, 50, 100, 200, 300, 1000]}\n",
        "gsSVM = GridSearchCV(svclassifier,param_grid = svc_param_grid, cv=kfold,scoring=\"accuracy\", n_jobs= -1, verbose = 1)\n",
        "gsSVM.fit(x_train, y_train)\n",
        "\n",
        "SVM_best = gsSVM.best_estimator_\n",
        "gsSVM.best_score_"
      ],
      "execution_count": 0,
      "outputs": [
        {
          "output_type": "stream",
          "text": [
            "Fitting 10 folds for each of 9 candidates, totalling 90 fits\n"
          ],
          "name": "stdout"
        },
        {
          "output_type": "stream",
          "text": [
            "[Parallel(n_jobs=-1)]: Using backend LokyBackend with 2 concurrent workers.\n",
            "[Parallel(n_jobs=-1)]: Done  46 tasks      | elapsed:    3.7s\n",
            "[Parallel(n_jobs=-1)]: Done  90 out of  90 | elapsed:    6.2s finished\n"
          ],
          "name": "stderr"
        },
        {
          "output_type": "execute_result",
          "data": {
            "text/plain": [
              "0.8619999999999999"
            ]
          },
          "metadata": {
            "tags": []
          },
          "execution_count": 100
        }
      ]
    },
    {
      "cell_type": "code",
      "metadata": {
        "id": "xwZZyeS8gV_Q",
        "colab_type": "code",
        "outputId": "53a4eb53-1b41-47a2-ed94-5c55300d9c48",
        "colab": {
          "base_uri": "https://localhost:8080/",
          "height": 34
        }
      },
      "source": [
        "train_data=np.sum(SVM_best.predict(x_train) == y_train)/ns\n",
        "print(train_data)"
      ],
      "execution_count": 0,
      "outputs": [
        {
          "output_type": "stream",
          "text": [
            "1.0\n"
          ],
          "name": "stdout"
        }
      ]
    },
    {
      "cell_type": "code",
      "metadata": {
        "id": "4nQVACDiXtfG",
        "colab_type": "code",
        "outputId": "8a272e08-201c-40da-a325-ac6b52d46acf",
        "colab": {
          "base_uri": "https://localhost:8080/",
          "height": 85
        }
      },
      "source": [
        "\n",
        "print(np.shape(y_test))\n",
        "print(np.sum(y_test==3))\n",
        "x_test = np.reshape(x_test_o, (10000, 784))\n",
        "print(np.shape(x_test))\n",
        "y_test.shape"
      ],
      "execution_count": 9,
      "outputs": [
        {
          "output_type": "stream",
          "text": [
            "(10000,)\n",
            "1010\n",
            "(10000, 784)\n"
          ],
          "name": "stdout"
        },
        {
          "output_type": "execute_result",
          "data": {
            "text/plain": [
              "(10000,)"
            ]
          },
          "metadata": {
            "tags": []
          },
          "execution_count": 9
        }
      ]
    },
    {
      "cell_type": "code",
      "metadata": {
        "id": "bLi1ojnWYI6E",
        "colab_type": "code",
        "colab": {}
      },
      "source": [
        "nt = 2000\n",
        "l_tr=np.where(y_test==3)\n",
        "l2_tr=np.where(y_test!=3)\n",
        "x_test_d=np.array(x_test)\n",
        "y_test_d=np.array(y_test)\n",
        "x_test[0:nt//2][:] = x_test_d[l_tr[0][0:nt//2]][:]\n",
        "y_test[0:nt//2]=1\n",
        "x_test[nt//2:nt][:] = x_test_d[l2_tr[0][0:nt//2]][:]\n",
        "y_test[nt//2:nt]=0\n",
        "x_test = x_test[0:nt][:]\n",
        "y_test = y_test[0:nt]"
      ],
      "execution_count": 0,
      "outputs": []
    },
    {
      "cell_type": "code",
      "metadata": {
        "id": "dk17iGDG0gqZ",
        "colab_type": "code",
        "colab": {}
      },
      "source": [
        "x_test, y_test = shuffle(x_test, y_test)"
      ],
      "execution_count": 0,
      "outputs": []
    },
    {
      "cell_type": "code",
      "metadata": {
        "id": "mS0vQDhN2y1o",
        "colab_type": "code",
        "outputId": "02c830af-5ce8-4d5e-e49a-3ce219a5b8ed",
        "colab": {
          "base_uri": "https://localhost:8080/",
          "height": 85
        }
      },
      "source": [
        "print(x_test.shape)\n",
        "print(y_test.shape)\n",
        "print(np.sum(y_test==0))\n",
        "print(np.sum(y_test==1))"
      ],
      "execution_count": 12,
      "outputs": [
        {
          "output_type": "stream",
          "text": [
            "(2000, 784)\n",
            "(2000,)\n",
            "1000\n",
            "1000\n"
          ],
          "name": "stdout"
        }
      ]
    },
    {
      "cell_type": "code",
      "metadata": {
        "id": "7h41m1eLW6Vw",
        "colab_type": "code",
        "outputId": "6ccbd46f-fd1f-4279-bce8-1145fa86371d",
        "colab": {
          "base_uri": "https://localhost:8080/",
          "height": 34
        }
      },
      "source": [
        "test_data=np.sum(SVM_best.predict(x_test) == y_test)/nt\n",
        "print(test_data)"
      ],
      "execution_count": 0,
      "outputs": [
        {
          "output_type": "stream",
          "text": [
            "0.871\n"
          ],
          "name": "stdout"
        }
      ]
    },
    {
      "cell_type": "code",
      "metadata": {
        "id": "0Ldjota8ZeLz",
        "colab_type": "code",
        "outputId": "f786866c-d70c-4206-d3c7-2f2bcf4e8930",
        "colab": {
          "base_uri": "https://localhost:8080/",
          "height": 51
        }
      },
      "source": [
        "n = 784\n",
        "m = 200\n",
        "A = np.random.randn(m,n)\n",
        "B=np.random.binomial(1,0.5,(m,n))\n",
        "B[np.where(B==0)]=-1\n",
        "# x_train_c = np.matmul(x_train, A.T)/m**0.5\n",
        "# x_test_c = np.matmul(x_test, A.T)/m**0.5\n",
        "x_train_g = np.matmul(x_train, A.T)/m**0.5\n",
        "x_test_g = np.matmul(x_test, A.T)/m**0.5\n",
        "x_train_b = np.matmul(x_train, B.T)/m**0.5\n",
        "x_test_b = np.matmul(x_test, B.T)/m**0.5\n",
        "print(np.shape(x_train_b))\n",
        "print(np.shape(x_train_g))"
      ],
      "execution_count": 0,
      "outputs": [
        {
          "output_type": "stream",
          "text": [
            "(500, 200)\n",
            "(500, 200)\n"
          ],
          "name": "stdout"
        }
      ]
    },
    {
      "cell_type": "code",
      "metadata": {
        "id": "gxa0Qf0VbIcp",
        "colab_type": "code",
        "outputId": "3418831b-9d73-481a-afd8-734af619af77",
        "colab": {
          "base_uri": "https://localhost:8080/",
          "height": 153
        }
      },
      "source": [
        "from sklearn.svm import SVC\n",
        "from sklearn.model_selection import GridSearchCV, StratifiedKFold\n",
        "\n",
        "kfold = StratifiedKFold(n_splits=10)\n",
        "\n",
        "svclassifier = SVC()\n",
        "svc_param_grid = {'kernel': ['linear'],\n",
        "                  'C': [0.01, 0.1, 1, 10, 50, 100, 200, 300, 1000]}\n",
        "gsSVM_g = GridSearchCV(svclassifier,param_grid = svc_param_grid, cv=kfold, scoring=\"accuracy\", n_jobs= -1, verbose = 1)\n",
        "gsSVM_g.fit(x_train_g, y_train)\n",
        "\n",
        "SVM_best_g = gsSVM_g.best_estimator_\n",
        "print(gsSVM_g.best_score_)\n",
        "\n",
        "gsSVM_b = GridSearchCV(svclassifier,param_grid = svc_param_grid, cv=kfold, scoring=\"accuracy\", n_jobs= -1, verbose = 1)\n",
        "gsSVM_b.fit(x_train_b, y_train)\n",
        "\n",
        "SVM_best_b = gsSVM_b.best_estimator_\n",
        "print(gsSVM_b.best_score_)"
      ],
      "execution_count": 0,
      "outputs": [
        {
          "output_type": "stream",
          "text": [
            "Fitting 10 folds for each of 9 candidates, totalling 90 fits\n"
          ],
          "name": "stdout"
        },
        {
          "output_type": "stream",
          "text": [
            "[Parallel(n_jobs=-1)]: Using backend LokyBackend with 2 concurrent workers.\n",
            "[Parallel(n_jobs=-1)]: Done  90 out of  90 | elapsed:    2.5s finished\n",
            "[Parallel(n_jobs=-1)]: Using backend LokyBackend with 2 concurrent workers.\n"
          ],
          "name": "stderr"
        },
        {
          "output_type": "stream",
          "text": [
            "0.8580000000000002\n",
            "Fitting 10 folds for each of 9 candidates, totalling 90 fits\n",
            "0.868\n"
          ],
          "name": "stdout"
        },
        {
          "output_type": "stream",
          "text": [
            "[Parallel(n_jobs=-1)]: Done  90 out of  90 | elapsed:    2.5s finished\n"
          ],
          "name": "stderr"
        }
      ]
    },
    {
      "cell_type": "code",
      "metadata": {
        "id": "x4sp5o6DguFU",
        "colab_type": "code",
        "outputId": "f89a3853-2e2f-4f64-d460-b01f1cd28434",
        "colab": {
          "base_uri": "https://localhost:8080/",
          "height": 51
        }
      },
      "source": [
        "train_measurement_gaussian=np.sum(SVM_best_g.predict(x_train_g) == y_train)/ns\n",
        "print(train_measurement_gaussian)\n",
        "train_measurement_bernoulli=np.sum(SVM_best_b.predict(x_train_b) == y_train)/ns\n",
        "print(train_measurement_bernoulli)"
      ],
      "execution_count": 0,
      "outputs": [
        {
          "output_type": "stream",
          "text": [
            "1.0\n",
            "1.0\n"
          ],
          "name": "stdout"
        }
      ]
    },
    {
      "cell_type": "code",
      "metadata": {
        "id": "_0fsW8BUbZWF",
        "colab_type": "code",
        "outputId": "64ac0211-ab22-4e49-9b9e-7c4da2b9df43",
        "colab": {
          "base_uri": "https://localhost:8080/",
          "height": 51
        }
      },
      "source": [
        "test_measurement_gaussian=np.sum(SVM_best_g.predict(x_test_g) == y_test)/nt\n",
        "print(test_measurement_gaussian)\n",
        "test_measurement_bernoulli=np.sum(SVM_best_b.predict(x_test_b) == y_test)/nt\n",
        "print(test_measurement_bernoulli)"
      ],
      "execution_count": 0,
      "outputs": [
        {
          "output_type": "stream",
          "text": [
            "0.852\n",
            "0.8475\n"
          ],
          "name": "stdout"
        }
      ]
    },
    {
      "cell_type": "code",
      "metadata": {
        "id": "1E3cD0ZXdvZD",
        "colab_type": "code",
        "outputId": "0cb49771-678a-4b68-f967-b1e49e43acdb",
        "colab": {
          "base_uri": "https://localhost:8080/",
          "height": 119
        }
      },
      "source": [
        "print(\"train_data\", train_data)\n",
        "print(\"test_data\", test_data)\n",
        "print(\"train_measurement_gaussian\", train_measurement_gaussian)\n",
        "print(\"test_measurement_gaussian\", test_measurement_gaussian)\n",
        "print(\"train_measurement_bernoulli\", train_measurement_bernoulli)\n",
        "print(\"test_measurement_bernoulli\", test_measurement_bernoulli)"
      ],
      "execution_count": 0,
      "outputs": [
        {
          "output_type": "stream",
          "text": [
            "train_data 1.0\n",
            "test_data 0.8745\n",
            "train_measurement_gaussian 1.0\n",
            "test_measurement_gaussian 0.852\n",
            "train_measurement_bernoulli 1.0\n",
            "test_measurement_bernoulli 0.8475\n"
          ],
          "name": "stdout"
        }
      ]
    },
    {
      "cell_type": "code",
      "metadata": {
        "id": "3WUv75WFhAZU",
        "colab_type": "code",
        "outputId": "ce5c15c9-1988-46f7-91d5-b148855825de",
        "colab": {
          "base_uri": "https://localhost:8080/",
          "height": 255
        }
      },
      "source": [
        "print(y_train)"
      ],
      "execution_count": 0,
      "outputs": [
        {
          "output_type": "stream",
          "text": [
            "[0 1 1 1 0 0 1 0 0 0 0 0 0 1 1 0 0 1 1 1 1 0 0 1 0 1 0 1 1 1 1 1 1 0 1 1 1\n",
            " 1 0 0 0 0 1 0 0 1 0 0 0 0 0 1 0 0 1 1 0 0 1 0 1 0 1 1 0 1 0 1 0 1 0 0 1 1\n",
            " 1 0 0 1 1 1 0 0 1 0 1 0 0 0 1 0 1 0 1 1 0 0 0 0 1 1 1 0 1 0 0 1 0 1 1 0 1\n",
            " 1 1 1 1 1 0 0 0 0 0 1 1 1 0 1 1 0 1 0 1 1 1 1 1 1 1 1 0 0 0 1 0 0 1 0 0 0\n",
            " 1 0 1 1 0 1 1 1 0 1 1 0 1 1 1 0 1 0 0 1 0 1 1 0 0 1 0 1 0 1 1 0 0 1 0 0 1\n",
            " 0 0 0 0 0 0 1 1 1 1 1 0 1 1 0 0 0 0 1 0 1 1 0 1 1 1 0 1 0 0 1 1 0 0 1 0 1\n",
            " 1 1 0 0 1 0 0 0 0 1 0 1 0 0 0 0 1 1 1 0 0 1 0 0 1 1 1 0 0 0 1 0 1 0 1 1 0\n",
            " 0 0 0 1 0 0 0 1 1 1 0 0 1 1 0 1 0 1 1 1 1 0 1 0 1 1 1 0 1 1 0 0 0 0 1 0 1\n",
            " 0 0 0 1 0 1 1 1 0 0 1 0 1 0 1 0 0 0 0 1 1 0 0 1 1 0 1 1 0 0 0 0 0 1 1 0 1\n",
            " 0 0 0 0 1 1 1 1 1 1 1 1 1 0 0 1 1 0 0 1 0 1 1 0 1 0 1 0 0 0 1 0 1 1 1 1 0\n",
            " 0 1 1 1 1 0 1 0 0 1 0 1 0 0 1 0 0 0 0 1 0 0 0 0 1 0 0 0 1 1 1 0 0 0 0 1 1\n",
            " 1 0 1 1 1 0 1 1 1 0 1 1 0 1 1 0 0 0 0 1 1 1 0 0 0 1 0 1 0 0 0 0 0 1 1 0 0\n",
            " 0 1 1 0 1 1 1 0 1 0 1 1 1 1 0 1 1 0 1 0 0 0 0 0 0 1 0 0 0 1 0 1 1 1 1 1 0\n",
            " 1 1 0 0 0 1 0 1 1 1 1 1 0 0 1 0 1 1 0]\n"
          ],
          "name": "stdout"
        }
      ]
    },
    {
      "cell_type": "code",
      "metadata": {
        "id": "8clMMHx9K2Ln",
        "colab_type": "code",
        "outputId": "065bd661-aa9c-4895-c058-fb8f61f6efc2",
        "colab": {
          "base_uri": "https://localhost:8080/",
          "height": 1000
        }
      },
      "source": [
        "from sklearn.svm import SVC\n",
        "from sklearn.model_selection import GridSearchCV, StratifiedKFold\n",
        "n = 784\n",
        "test_acc_g=[]\n",
        "train_acc_g=[]\n",
        "test_acc_b=[]\n",
        "train_acc_b=[]\n",
        "meas=[]\n",
        "\n",
        "m = 200\n",
        "for m in list(range(800,5,-20)):\n",
        "  A = np.random.randn(m,n)\n",
        "  B=np.random.binomial(1,0.5,(m,n))\n",
        "  B[np.where(B==0)]=-1\n",
        "  # x_train_c = np.matmul(x_train, A.T)/m**0.5\n",
        "  # x_test_c = np.matmul(x_test, A.T)/m**0.5\n",
        "  x_train_g = np.matmul(x_train, A.T)/m**0.5\n",
        "  x_test_g = np.matmul(x_test, A.T)/m**0.5\n",
        "  x_train_b = np.matmul(x_train, B.T)/m**0.5\n",
        "  x_test_b = np.matmul(x_test, B.T)/m**0.5\n",
        "  print(np.shape(x_train_b))\n",
        "  print(np.shape(x_train_g))\n",
        "  kfold = StratifiedKFold(n_splits=10)\n",
        "\n",
        "  svclassifier = SVC()\n",
        "  svc_param_grid = {'kernel': ['linear'],\n",
        "                    'C': [0.01, 0.1, 1, 10, 50, 100, 200, 300, 1000]}\n",
        "  gsSVM_g = GridSearchCV(svclassifier,param_grid = svc_param_grid, cv=kfold, scoring=\"accuracy\", n_jobs= -1, verbose = 1)\n",
        "  gsSVM_g.fit(x_train_g, y_train)\n",
        "\n",
        "  SVM_best_g = gsSVM_g.best_estimator_\n",
        "  print(gsSVM_g.best_score_)\n",
        "\n",
        "  gsSVM_b = GridSearchCV(svclassifier,param_grid = svc_param_grid, cv=kfold, scoring=\"accuracy\", n_jobs= -1, verbose = 1)\n",
        "  gsSVM_b.fit(x_train_b, y_train)\n",
        "\n",
        "  SVM_best_b = gsSVM_b.best_estimator_\n",
        "  print(gsSVM_b.best_score_)\n",
        "  print(m)\n",
        "  train_acc_g.append(np.sum(SVM_best_g.predict(x_train_g) == y_train)/ns)\n",
        "  test_acc_g.append(np.sum(SVM_best_g.predict(x_test_g) == y_test)/nt)\n",
        "  train_acc_b.append(np.sum(SVM_best_b.predict(x_train_b) == y_train)/ns)\n",
        "  test_acc_b.append(np.sum(SVM_best_b.predict(x_test_b) == y_test)/nt)\n",
        "  meas.append(m)\n"
      ],
      "execution_count": 0,
      "outputs": [
        {
          "output_type": "stream",
          "text": [
            "(500, 800)\n",
            "(500, 800)\n",
            "Fitting 10 folds for each of 9 candidates, totalling 90 fits\n"
          ],
          "name": "stdout"
        },
        {
          "output_type": "stream",
          "text": [
            "[Parallel(n_jobs=-1)]: Using backend LokyBackend with 2 concurrent workers.\n",
            "[Parallel(n_jobs=-1)]: Done  90 out of  90 | elapsed:    4.1s finished\n",
            "[Parallel(n_jobs=-1)]: Using backend LokyBackend with 2 concurrent workers.\n"
          ],
          "name": "stderr"
        },
        {
          "output_type": "stream",
          "text": [
            "0.9\n",
            "Fitting 10 folds for each of 9 candidates, totalling 90 fits\n"
          ],
          "name": "stdout"
        },
        {
          "output_type": "stream",
          "text": [
            "[Parallel(n_jobs=-1)]: Done  90 out of  90 | elapsed:    3.9s finished\n"
          ],
          "name": "stderr"
        },
        {
          "output_type": "stream",
          "text": [
            "0.9020000000000001\n",
            "800\n",
            "(500, 780)\n",
            "(500, 780)\n",
            "Fitting 10 folds for each of 9 candidates, totalling 90 fits\n"
          ],
          "name": "stdout"
        },
        {
          "output_type": "stream",
          "text": [
            "[Parallel(n_jobs=-1)]: Using backend LokyBackend with 2 concurrent workers.\n",
            "[Parallel(n_jobs=-1)]: Done  90 out of  90 | elapsed:    3.8s finished\n",
            "[Parallel(n_jobs=-1)]: Using backend LokyBackend with 2 concurrent workers.\n"
          ],
          "name": "stderr"
        },
        {
          "output_type": "stream",
          "text": [
            "0.8959999999999999\n",
            "Fitting 10 folds for each of 9 candidates, totalling 90 fits\n"
          ],
          "name": "stdout"
        },
        {
          "output_type": "stream",
          "text": [
            "[Parallel(n_jobs=-1)]: Done  90 out of  90 | elapsed:    3.8s finished\n"
          ],
          "name": "stderr"
        },
        {
          "output_type": "stream",
          "text": [
            "0.9119999999999999\n",
            "780\n",
            "(500, 760)\n",
            "(500, 760)\n",
            "Fitting 10 folds for each of 9 candidates, totalling 90 fits\n"
          ],
          "name": "stdout"
        },
        {
          "output_type": "stream",
          "text": [
            "[Parallel(n_jobs=-1)]: Using backend LokyBackend with 2 concurrent workers.\n",
            "[Parallel(n_jobs=-1)]: Done  90 out of  90 | elapsed:    3.8s finished\n",
            "[Parallel(n_jobs=-1)]: Using backend LokyBackend with 2 concurrent workers.\n"
          ],
          "name": "stderr"
        },
        {
          "output_type": "stream",
          "text": [
            "0.906\n",
            "Fitting 10 folds for each of 9 candidates, totalling 90 fits\n"
          ],
          "name": "stdout"
        },
        {
          "output_type": "stream",
          "text": [
            "[Parallel(n_jobs=-1)]: Done  90 out of  90 | elapsed:    3.8s finished\n"
          ],
          "name": "stderr"
        },
        {
          "output_type": "stream",
          "text": [
            "0.8959999999999999\n",
            "760\n",
            "(500, 740)\n",
            "(500, 740)\n",
            "Fitting 10 folds for each of 9 candidates, totalling 90 fits\n"
          ],
          "name": "stdout"
        },
        {
          "output_type": "stream",
          "text": [
            "[Parallel(n_jobs=-1)]: Using backend LokyBackend with 2 concurrent workers.\n",
            "[Parallel(n_jobs=-1)]: Done  87 out of  90 | elapsed:    3.7s remaining:    0.1s\n",
            "[Parallel(n_jobs=-1)]: Done  90 out of  90 | elapsed:    3.8s finished\n"
          ],
          "name": "stderr"
        },
        {
          "output_type": "stream",
          "text": [
            "0.9099999999999999\n",
            "Fitting 10 folds for each of 9 candidates, totalling 90 fits\n"
          ],
          "name": "stdout"
        },
        {
          "output_type": "stream",
          "text": [
            "[Parallel(n_jobs=-1)]: Using backend LokyBackend with 2 concurrent workers.\n",
            "[Parallel(n_jobs=-1)]: Done  90 out of  90 | elapsed:    3.7s finished\n"
          ],
          "name": "stderr"
        },
        {
          "output_type": "stream",
          "text": [
            "0.9179999999999999\n",
            "740\n",
            "(500, 720)\n",
            "(500, 720)\n",
            "Fitting 10 folds for each of 9 candidates, totalling 90 fits\n"
          ],
          "name": "stdout"
        },
        {
          "output_type": "stream",
          "text": [
            "[Parallel(n_jobs=-1)]: Using backend LokyBackend with 2 concurrent workers.\n",
            "[Parallel(n_jobs=-1)]: Done  87 out of  90 | elapsed:    3.5s remaining:    0.1s\n",
            "[Parallel(n_jobs=-1)]: Done  90 out of  90 | elapsed:    3.5s finished\n"
          ],
          "name": "stderr"
        },
        {
          "output_type": "stream",
          "text": [
            "0.8939999999999999\n",
            "Fitting 10 folds for each of 9 candidates, totalling 90 fits\n"
          ],
          "name": "stdout"
        },
        {
          "output_type": "stream",
          "text": [
            "[Parallel(n_jobs=-1)]: Using backend LokyBackend with 2 concurrent workers.\n",
            "[Parallel(n_jobs=-1)]: Done  90 out of  90 | elapsed:    3.6s finished\n"
          ],
          "name": "stderr"
        },
        {
          "output_type": "stream",
          "text": [
            "0.906\n",
            "720\n",
            "(500, 700)\n",
            "(500, 700)\n",
            "Fitting 10 folds for each of 9 candidates, totalling 90 fits\n"
          ],
          "name": "stdout"
        },
        {
          "output_type": "stream",
          "text": [
            "[Parallel(n_jobs=-1)]: Using backend LokyBackend with 2 concurrent workers.\n",
            "[Parallel(n_jobs=-1)]: Done  90 out of  90 | elapsed:    3.5s finished\n",
            "[Parallel(n_jobs=-1)]: Using backend LokyBackend with 2 concurrent workers.\n"
          ],
          "name": "stderr"
        },
        {
          "output_type": "stream",
          "text": [
            "0.908\n",
            "Fitting 10 folds for each of 9 candidates, totalling 90 fits\n"
          ],
          "name": "stdout"
        },
        {
          "output_type": "stream",
          "text": [
            "[Parallel(n_jobs=-1)]: Done  90 out of  90 | elapsed:    3.7s finished\n"
          ],
          "name": "stderr"
        },
        {
          "output_type": "stream",
          "text": [
            "0.9039999999999999\n",
            "700\n",
            "(500, 680)\n",
            "(500, 680)\n",
            "Fitting 10 folds for each of 9 candidates, totalling 90 fits\n"
          ],
          "name": "stdout"
        },
        {
          "output_type": "stream",
          "text": [
            "[Parallel(n_jobs=-1)]: Using backend LokyBackend with 2 concurrent workers.\n",
            "[Parallel(n_jobs=-1)]: Done  90 out of  90 | elapsed:    3.5s finished\n",
            "[Parallel(n_jobs=-1)]: Using backend LokyBackend with 2 concurrent workers.\n"
          ],
          "name": "stderr"
        },
        {
          "output_type": "stream",
          "text": [
            "0.9019999999999999\n",
            "Fitting 10 folds for each of 9 candidates, totalling 90 fits\n"
          ],
          "name": "stdout"
        },
        {
          "output_type": "stream",
          "text": [
            "[Parallel(n_jobs=-1)]: Done  90 out of  90 | elapsed:    3.5s finished\n"
          ],
          "name": "stderr"
        },
        {
          "output_type": "stream",
          "text": [
            "0.9040000000000001\n",
            "680\n",
            "(500, 660)\n",
            "(500, 660)\n",
            "Fitting 10 folds for each of 9 candidates, totalling 90 fits\n"
          ],
          "name": "stdout"
        },
        {
          "output_type": "stream",
          "text": [
            "[Parallel(n_jobs=-1)]: Using backend LokyBackend with 2 concurrent workers.\n",
            "[Parallel(n_jobs=-1)]: Done  90 out of  90 | elapsed:    3.4s finished\n",
            "[Parallel(n_jobs=-1)]: Using backend LokyBackend with 2 concurrent workers.\n"
          ],
          "name": "stderr"
        },
        {
          "output_type": "stream",
          "text": [
            "0.9119999999999999\n",
            "Fitting 10 folds for each of 9 candidates, totalling 90 fits\n"
          ],
          "name": "stdout"
        },
        {
          "output_type": "stream",
          "text": [
            "[Parallel(n_jobs=-1)]: Done  90 out of  90 | elapsed:    3.4s finished\n"
          ],
          "name": "stderr"
        },
        {
          "output_type": "stream",
          "text": [
            "0.9019999999999999\n",
            "660\n",
            "(500, 640)\n",
            "(500, 640)\n",
            "Fitting 10 folds for each of 9 candidates, totalling 90 fits\n"
          ],
          "name": "stdout"
        },
        {
          "output_type": "stream",
          "text": [
            "[Parallel(n_jobs=-1)]: Using backend LokyBackend with 2 concurrent workers.\n",
            "[Parallel(n_jobs=-1)]: Done  90 out of  90 | elapsed:    3.3s finished\n",
            "[Parallel(n_jobs=-1)]: Using backend LokyBackend with 2 concurrent workers.\n"
          ],
          "name": "stderr"
        },
        {
          "output_type": "stream",
          "text": [
            "0.906\n",
            "Fitting 10 folds for each of 9 candidates, totalling 90 fits\n"
          ],
          "name": "stdout"
        },
        {
          "output_type": "stream",
          "text": [
            "[Parallel(n_jobs=-1)]: Done  90 out of  90 | elapsed:    3.3s finished\n"
          ],
          "name": "stderr"
        },
        {
          "output_type": "stream",
          "text": [
            "0.908\n",
            "640\n",
            "(500, 620)\n",
            "(500, 620)\n",
            "Fitting 10 folds for each of 9 candidates, totalling 90 fits\n"
          ],
          "name": "stdout"
        },
        {
          "output_type": "stream",
          "text": [
            "[Parallel(n_jobs=-1)]: Using backend LokyBackend with 2 concurrent workers.\n",
            "[Parallel(n_jobs=-1)]: Done  90 out of  90 | elapsed:    3.2s finished\n",
            "[Parallel(n_jobs=-1)]: Using backend LokyBackend with 2 concurrent workers.\n"
          ],
          "name": "stderr"
        },
        {
          "output_type": "stream",
          "text": [
            "0.906\n",
            "Fitting 10 folds for each of 9 candidates, totalling 90 fits\n"
          ],
          "name": "stdout"
        },
        {
          "output_type": "stream",
          "text": [
            "[Parallel(n_jobs=-1)]: Done  90 out of  90 | elapsed:    3.2s finished\n"
          ],
          "name": "stderr"
        },
        {
          "output_type": "stream",
          "text": [
            "0.906\n",
            "620\n",
            "(500, 600)\n",
            "(500, 600)\n",
            "Fitting 10 folds for each of 9 candidates, totalling 90 fits\n"
          ],
          "name": "stdout"
        },
        {
          "output_type": "stream",
          "text": [
            "[Parallel(n_jobs=-1)]: Using backend LokyBackend with 2 concurrent workers.\n",
            "[Parallel(n_jobs=-1)]: Done  90 out of  90 | elapsed:    3.2s finished\n",
            "[Parallel(n_jobs=-1)]: Using backend LokyBackend with 2 concurrent workers.\n"
          ],
          "name": "stderr"
        },
        {
          "output_type": "stream",
          "text": [
            "0.906\n",
            "Fitting 10 folds for each of 9 candidates, totalling 90 fits\n"
          ],
          "name": "stdout"
        },
        {
          "output_type": "stream",
          "text": [
            "[Parallel(n_jobs=-1)]: Done  90 out of  90 | elapsed:    3.2s finished\n"
          ],
          "name": "stderr"
        },
        {
          "output_type": "stream",
          "text": [
            "0.898\n",
            "600\n",
            "(500, 580)\n",
            "(500, 580)\n",
            "Fitting 10 folds for each of 9 candidates, totalling 90 fits\n"
          ],
          "name": "stdout"
        },
        {
          "output_type": "stream",
          "text": [
            "[Parallel(n_jobs=-1)]: Using backend LokyBackend with 2 concurrent workers.\n",
            "[Parallel(n_jobs=-1)]: Done  90 out of  90 | elapsed:    3.0s finished\n",
            "[Parallel(n_jobs=-1)]: Using backend LokyBackend with 2 concurrent workers.\n"
          ],
          "name": "stderr"
        },
        {
          "output_type": "stream",
          "text": [
            "0.898\n",
            "Fitting 10 folds for each of 9 candidates, totalling 90 fits\n"
          ],
          "name": "stdout"
        },
        {
          "output_type": "stream",
          "text": [
            "[Parallel(n_jobs=-1)]: Done  90 out of  90 | elapsed:    3.1s finished\n"
          ],
          "name": "stderr"
        },
        {
          "output_type": "stream",
          "text": [
            "0.908\n",
            "580\n",
            "(500, 560)\n",
            "(500, 560)\n",
            "Fitting 10 folds for each of 9 candidates, totalling 90 fits\n"
          ],
          "name": "stdout"
        },
        {
          "output_type": "stream",
          "text": [
            "[Parallel(n_jobs=-1)]: Using backend LokyBackend with 2 concurrent workers.\n",
            "[Parallel(n_jobs=-1)]: Done  90 out of  90 | elapsed:    3.1s finished\n",
            "[Parallel(n_jobs=-1)]: Using backend LokyBackend with 2 concurrent workers.\n"
          ],
          "name": "stderr"
        },
        {
          "output_type": "stream",
          "text": [
            "0.9019999999999999\n",
            "Fitting 10 folds for each of 9 candidates, totalling 90 fits\n"
          ],
          "name": "stdout"
        },
        {
          "output_type": "stream",
          "text": [
            "[Parallel(n_jobs=-1)]: Done  90 out of  90 | elapsed:    2.9s finished\n"
          ],
          "name": "stderr"
        },
        {
          "output_type": "stream",
          "text": [
            "0.9059999999999999\n",
            "560\n",
            "(500, 540)\n",
            "(500, 540)\n",
            "Fitting 10 folds for each of 9 candidates, totalling 90 fits\n"
          ],
          "name": "stdout"
        },
        {
          "output_type": "stream",
          "text": [
            "[Parallel(n_jobs=-1)]: Using backend LokyBackend with 2 concurrent workers.\n",
            "[Parallel(n_jobs=-1)]: Done  90 out of  90 | elapsed:    2.7s finished\n",
            "[Parallel(n_jobs=-1)]: Using backend LokyBackend with 2 concurrent workers.\n"
          ],
          "name": "stderr"
        },
        {
          "output_type": "stream",
          "text": [
            "0.908\n",
            "Fitting 10 folds for each of 9 candidates, totalling 90 fits\n"
          ],
          "name": "stdout"
        },
        {
          "output_type": "stream",
          "text": [
            "[Parallel(n_jobs=-1)]: Done  90 out of  90 | elapsed:    2.8s finished\n"
          ],
          "name": "stderr"
        },
        {
          "output_type": "stream",
          "text": [
            "0.9019999999999999\n",
            "540\n",
            "(500, 520)\n",
            "(500, 520)\n",
            "Fitting 10 folds for each of 9 candidates, totalling 90 fits\n"
          ],
          "name": "stdout"
        },
        {
          "output_type": "stream",
          "text": [
            "[Parallel(n_jobs=-1)]: Using backend LokyBackend with 2 concurrent workers.\n",
            "[Parallel(n_jobs=-1)]: Done  90 out of  90 | elapsed:    2.7s finished\n",
            "[Parallel(n_jobs=-1)]: Using backend LokyBackend with 2 concurrent workers.\n"
          ],
          "name": "stderr"
        },
        {
          "output_type": "stream",
          "text": [
            "0.8879999999999999\n",
            "Fitting 10 folds for each of 9 candidates, totalling 90 fits\n"
          ],
          "name": "stdout"
        },
        {
          "output_type": "stream",
          "text": [
            "[Parallel(n_jobs=-1)]: Done  90 out of  90 | elapsed:    2.7s finished\n"
          ],
          "name": "stderr"
        },
        {
          "output_type": "stream",
          "text": [
            "0.9099999999999999\n",
            "520\n",
            "(500, 500)\n",
            "(500, 500)\n",
            "Fitting 10 folds for each of 9 candidates, totalling 90 fits\n"
          ],
          "name": "stdout"
        },
        {
          "output_type": "stream",
          "text": [
            "[Parallel(n_jobs=-1)]: Using backend LokyBackend with 2 concurrent workers.\n",
            "[Parallel(n_jobs=-1)]: Done  90 out of  90 | elapsed:    2.8s finished\n",
            "[Parallel(n_jobs=-1)]: Using backend LokyBackend with 2 concurrent workers.\n"
          ],
          "name": "stderr"
        },
        {
          "output_type": "stream",
          "text": [
            "0.906\n",
            "Fitting 10 folds for each of 9 candidates, totalling 90 fits\n"
          ],
          "name": "stdout"
        },
        {
          "output_type": "stream",
          "text": [
            "[Parallel(n_jobs=-1)]: Done  90 out of  90 | elapsed:    2.7s finished\n"
          ],
          "name": "stderr"
        },
        {
          "output_type": "stream",
          "text": [
            "0.908\n",
            "500\n",
            "(500, 480)\n",
            "(500, 480)\n",
            "Fitting 10 folds for each of 9 candidates, totalling 90 fits\n"
          ],
          "name": "stdout"
        },
        {
          "output_type": "stream",
          "text": [
            "[Parallel(n_jobs=-1)]: Using backend LokyBackend with 2 concurrent workers.\n",
            "[Parallel(n_jobs=-1)]: Done  90 out of  90 | elapsed:    2.7s finished\n",
            "[Parallel(n_jobs=-1)]: Using backend LokyBackend with 2 concurrent workers.\n"
          ],
          "name": "stderr"
        },
        {
          "output_type": "stream",
          "text": [
            "0.898\n",
            "Fitting 10 folds for each of 9 candidates, totalling 90 fits\n"
          ],
          "name": "stdout"
        },
        {
          "output_type": "stream",
          "text": [
            "[Parallel(n_jobs=-1)]: Done  90 out of  90 | elapsed:    2.7s finished\n"
          ],
          "name": "stderr"
        },
        {
          "output_type": "stream",
          "text": [
            "0.9099999999999999\n",
            "480\n",
            "(500, 460)\n",
            "(500, 460)\n",
            "Fitting 10 folds for each of 9 candidates, totalling 90 fits\n"
          ],
          "name": "stdout"
        },
        {
          "output_type": "stream",
          "text": [
            "[Parallel(n_jobs=-1)]: Using backend LokyBackend with 2 concurrent workers.\n",
            "[Parallel(n_jobs=-1)]: Done  90 out of  90 | elapsed:    2.5s finished\n",
            "[Parallel(n_jobs=-1)]: Using backend LokyBackend with 2 concurrent workers.\n"
          ],
          "name": "stderr"
        },
        {
          "output_type": "stream",
          "text": [
            "0.908\n",
            "Fitting 10 folds for each of 9 candidates, totalling 90 fits\n"
          ],
          "name": "stdout"
        },
        {
          "output_type": "stream",
          "text": [
            "[Parallel(n_jobs=-1)]: Done  90 out of  90 | elapsed:    2.5s finished\n"
          ],
          "name": "stderr"
        },
        {
          "output_type": "stream",
          "text": [
            "0.9159999999999998\n",
            "460\n",
            "(500, 440)\n",
            "(500, 440)\n",
            "Fitting 10 folds for each of 9 candidates, totalling 90 fits\n"
          ],
          "name": "stdout"
        },
        {
          "output_type": "stream",
          "text": [
            "[Parallel(n_jobs=-1)]: Using backend LokyBackend with 2 concurrent workers.\n",
            "[Parallel(n_jobs=-1)]: Done  90 out of  90 | elapsed:    2.4s finished\n",
            "[Parallel(n_jobs=-1)]: Using backend LokyBackend with 2 concurrent workers.\n"
          ],
          "name": "stderr"
        },
        {
          "output_type": "stream",
          "text": [
            "0.9039999999999999\n",
            "Fitting 10 folds for each of 9 candidates, totalling 90 fits\n"
          ],
          "name": "stdout"
        },
        {
          "output_type": "stream",
          "text": [
            "[Parallel(n_jobs=-1)]: Done  90 out of  90 | elapsed:    2.4s finished\n"
          ],
          "name": "stderr"
        },
        {
          "output_type": "stream",
          "text": [
            "0.8979999999999999\n",
            "440\n",
            "(500, 420)\n",
            "(500, 420)\n",
            "Fitting 10 folds for each of 9 candidates, totalling 90 fits\n"
          ],
          "name": "stdout"
        },
        {
          "output_type": "stream",
          "text": [
            "[Parallel(n_jobs=-1)]: Using backend LokyBackend with 2 concurrent workers.\n",
            "[Parallel(n_jobs=-1)]: Done  90 out of  90 | elapsed:    2.3s finished\n",
            "[Parallel(n_jobs=-1)]: Using backend LokyBackend with 2 concurrent workers.\n"
          ],
          "name": "stderr"
        },
        {
          "output_type": "stream",
          "text": [
            "0.8960000000000001\n",
            "Fitting 10 folds for each of 9 candidates, totalling 90 fits\n"
          ],
          "name": "stdout"
        },
        {
          "output_type": "stream",
          "text": [
            "[Parallel(n_jobs=-1)]: Done  90 out of  90 | elapsed:    2.2s finished\n"
          ],
          "name": "stderr"
        },
        {
          "output_type": "stream",
          "text": [
            "0.8939999999999999\n",
            "420\n",
            "(500, 400)\n",
            "(500, 400)\n",
            "Fitting 10 folds for each of 9 candidates, totalling 90 fits\n"
          ],
          "name": "stdout"
        },
        {
          "output_type": "stream",
          "text": [
            "[Parallel(n_jobs=-1)]: Using backend LokyBackend with 2 concurrent workers.\n",
            "[Parallel(n_jobs=-1)]: Done  90 out of  90 | elapsed:    2.2s finished\n",
            "[Parallel(n_jobs=-1)]: Using backend LokyBackend with 2 concurrent workers.\n"
          ],
          "name": "stderr"
        },
        {
          "output_type": "stream",
          "text": [
            "0.9059999999999999\n",
            "Fitting 10 folds for each of 9 candidates, totalling 90 fits\n"
          ],
          "name": "stdout"
        },
        {
          "output_type": "stream",
          "text": [
            "[Parallel(n_jobs=-1)]: Done  90 out of  90 | elapsed:    2.1s finished\n"
          ],
          "name": "stderr"
        },
        {
          "output_type": "stream",
          "text": [
            "0.8859999999999999\n",
            "400\n",
            "(500, 380)\n",
            "(500, 380)\n",
            "Fitting 10 folds for each of 9 candidates, totalling 90 fits\n"
          ],
          "name": "stdout"
        },
        {
          "output_type": "stream",
          "text": [
            "[Parallel(n_jobs=-1)]: Using backend LokyBackend with 2 concurrent workers.\n",
            "[Parallel(n_jobs=-1)]: Done  90 out of  90 | elapsed:    2.1s finished\n",
            "[Parallel(n_jobs=-1)]: Using backend LokyBackend with 2 concurrent workers.\n"
          ],
          "name": "stderr"
        },
        {
          "output_type": "stream",
          "text": [
            "0.9039999999999999\n",
            "Fitting 10 folds for each of 9 candidates, totalling 90 fits\n"
          ],
          "name": "stdout"
        },
        {
          "output_type": "stream",
          "text": [
            "[Parallel(n_jobs=-1)]: Done  90 out of  90 | elapsed:    2.0s finished\n"
          ],
          "name": "stderr"
        },
        {
          "output_type": "stream",
          "text": [
            "0.8959999999999999\n",
            "380\n",
            "(500, 360)\n",
            "(500, 360)\n",
            "Fitting 10 folds for each of 9 candidates, totalling 90 fits\n"
          ],
          "name": "stdout"
        },
        {
          "output_type": "stream",
          "text": [
            "[Parallel(n_jobs=-1)]: Using backend LokyBackend with 2 concurrent workers.\n",
            "[Parallel(n_jobs=-1)]: Done  90 out of  90 | elapsed:    2.0s finished\n",
            "[Parallel(n_jobs=-1)]: Using backend LokyBackend with 2 concurrent workers.\n"
          ],
          "name": "stderr"
        },
        {
          "output_type": "stream",
          "text": [
            "0.9100000000000001\n",
            "Fitting 10 folds for each of 9 candidates, totalling 90 fits\n"
          ],
          "name": "stdout"
        },
        {
          "output_type": "stream",
          "text": [
            "[Parallel(n_jobs=-1)]: Done  90 out of  90 | elapsed:    2.1s finished\n"
          ],
          "name": "stderr"
        },
        {
          "output_type": "stream",
          "text": [
            "0.9019999999999999\n",
            "360\n",
            "(500, 340)\n",
            "(500, 340)\n",
            "Fitting 10 folds for each of 9 candidates, totalling 90 fits\n"
          ],
          "name": "stdout"
        },
        {
          "output_type": "stream",
          "text": [
            "[Parallel(n_jobs=-1)]: Using backend LokyBackend with 2 concurrent workers.\n",
            "[Parallel(n_jobs=-1)]: Done  90 out of  90 | elapsed:    1.9s finished\n",
            "[Parallel(n_jobs=-1)]: Using backend LokyBackend with 2 concurrent workers.\n"
          ],
          "name": "stderr"
        },
        {
          "output_type": "stream",
          "text": [
            "0.898\n",
            "Fitting 10 folds for each of 9 candidates, totalling 90 fits\n"
          ],
          "name": "stdout"
        },
        {
          "output_type": "stream",
          "text": [
            "[Parallel(n_jobs=-1)]: Done  90 out of  90 | elapsed:    2.0s finished\n"
          ],
          "name": "stderr"
        },
        {
          "output_type": "stream",
          "text": [
            "0.8939999999999999\n",
            "340\n",
            "(500, 320)\n",
            "(500, 320)\n",
            "Fitting 10 folds for each of 9 candidates, totalling 90 fits\n"
          ],
          "name": "stdout"
        },
        {
          "output_type": "stream",
          "text": [
            "[Parallel(n_jobs=-1)]: Using backend LokyBackend with 2 concurrent workers.\n",
            "[Parallel(n_jobs=-1)]: Done  90 out of  90 | elapsed:    2.0s finished\n",
            "[Parallel(n_jobs=-1)]: Using backend LokyBackend with 2 concurrent workers.\n"
          ],
          "name": "stderr"
        },
        {
          "output_type": "stream",
          "text": [
            "0.8880000000000001\n",
            "Fitting 10 folds for each of 9 candidates, totalling 90 fits\n"
          ],
          "name": "stdout"
        },
        {
          "output_type": "stream",
          "text": [
            "[Parallel(n_jobs=-1)]: Done  90 out of  90 | elapsed:    1.9s finished\n"
          ],
          "name": "stderr"
        },
        {
          "output_type": "stream",
          "text": [
            "0.916\n",
            "320\n",
            "(500, 300)\n",
            "(500, 300)\n",
            "Fitting 10 folds for each of 9 candidates, totalling 90 fits\n"
          ],
          "name": "stdout"
        },
        {
          "output_type": "stream",
          "text": [
            "[Parallel(n_jobs=-1)]: Using backend LokyBackend with 2 concurrent workers.\n",
            "[Parallel(n_jobs=-1)]: Done  90 out of  90 | elapsed:    1.9s finished\n",
            "[Parallel(n_jobs=-1)]: Using backend LokyBackend with 2 concurrent workers.\n"
          ],
          "name": "stderr"
        },
        {
          "output_type": "stream",
          "text": [
            "0.8939999999999999\n",
            "Fitting 10 folds for each of 9 candidates, totalling 90 fits\n"
          ],
          "name": "stdout"
        },
        {
          "output_type": "stream",
          "text": [
            "[Parallel(n_jobs=-1)]: Done  90 out of  90 | elapsed:    2.0s finished\n"
          ],
          "name": "stderr"
        },
        {
          "output_type": "stream",
          "text": [
            "0.8859999999999999\n",
            "300\n",
            "(500, 280)\n",
            "(500, 280)\n",
            "Fitting 10 folds for each of 9 candidates, totalling 90 fits\n"
          ],
          "name": "stdout"
        },
        {
          "output_type": "stream",
          "text": [
            "[Parallel(n_jobs=-1)]: Using backend LokyBackend with 2 concurrent workers.\n",
            "[Parallel(n_jobs=-1)]: Done  90 out of  90 | elapsed:    1.7s finished\n",
            "[Parallel(n_jobs=-1)]: Using backend LokyBackend with 2 concurrent workers.\n"
          ],
          "name": "stderr"
        },
        {
          "output_type": "stream",
          "text": [
            "0.8880000000000001\n",
            "Fitting 10 folds for each of 9 candidates, totalling 90 fits\n"
          ],
          "name": "stdout"
        },
        {
          "output_type": "stream",
          "text": [
            "[Parallel(n_jobs=-1)]: Done  90 out of  90 | elapsed:    1.7s finished\n"
          ],
          "name": "stderr"
        },
        {
          "output_type": "stream",
          "text": [
            "0.9099999999999999\n",
            "280\n",
            "(500, 260)\n",
            "(500, 260)\n",
            "Fitting 10 folds for each of 9 candidates, totalling 90 fits\n"
          ],
          "name": "stdout"
        },
        {
          "output_type": "stream",
          "text": [
            "[Parallel(n_jobs=-1)]: Using backend LokyBackend with 2 concurrent workers.\n",
            "[Parallel(n_jobs=-1)]: Done  90 out of  90 | elapsed:    1.7s finished\n",
            "[Parallel(n_jobs=-1)]: Using backend LokyBackend with 2 concurrent workers.\n"
          ],
          "name": "stderr"
        },
        {
          "output_type": "stream",
          "text": [
            "0.9039999999999999\n",
            "Fitting 10 folds for each of 9 candidates, totalling 90 fits\n"
          ],
          "name": "stdout"
        },
        {
          "output_type": "stream",
          "text": [
            "[Parallel(n_jobs=-1)]: Done  90 out of  90 | elapsed:    1.7s finished\n"
          ],
          "name": "stderr"
        },
        {
          "output_type": "stream",
          "text": [
            "0.8720000000000001\n",
            "260\n",
            "(500, 240)\n",
            "(500, 240)\n",
            "Fitting 10 folds for each of 9 candidates, totalling 90 fits\n"
          ],
          "name": "stdout"
        },
        {
          "output_type": "stream",
          "text": [
            "[Parallel(n_jobs=-1)]: Using backend LokyBackend with 2 concurrent workers.\n",
            "[Parallel(n_jobs=-1)]: Done  90 out of  90 | elapsed:    1.7s finished\n",
            "[Parallel(n_jobs=-1)]: Using backend LokyBackend with 2 concurrent workers.\n"
          ],
          "name": "stderr"
        },
        {
          "output_type": "stream",
          "text": [
            "0.8960000000000001\n",
            "Fitting 10 folds for each of 9 candidates, totalling 90 fits\n"
          ],
          "name": "stdout"
        },
        {
          "output_type": "stream",
          "text": [
            "[Parallel(n_jobs=-1)]: Done  90 out of  90 | elapsed:    1.6s finished\n"
          ],
          "name": "stderr"
        },
        {
          "output_type": "stream",
          "text": [
            "0.89\n",
            "240\n",
            "(500, 220)\n",
            "(500, 220)\n",
            "Fitting 10 folds for each of 9 candidates, totalling 90 fits\n"
          ],
          "name": "stdout"
        },
        {
          "output_type": "stream",
          "text": [
            "[Parallel(n_jobs=-1)]: Using backend LokyBackend with 2 concurrent workers.\n",
            "[Parallel(n_jobs=-1)]: Done  90 out of  90 | elapsed:    1.5s finished\n",
            "[Parallel(n_jobs=-1)]: Using backend LokyBackend with 2 concurrent workers.\n"
          ],
          "name": "stderr"
        },
        {
          "output_type": "stream",
          "text": [
            "0.8959999999999999\n",
            "Fitting 10 folds for each of 9 candidates, totalling 90 fits\n"
          ],
          "name": "stdout"
        },
        {
          "output_type": "stream",
          "text": [
            "[Parallel(n_jobs=-1)]: Done  90 out of  90 | elapsed:    1.5s finished\n"
          ],
          "name": "stderr"
        },
        {
          "output_type": "stream",
          "text": [
            "0.906\n",
            "220\n",
            "(500, 200)\n",
            "(500, 200)\n",
            "Fitting 10 folds for each of 9 candidates, totalling 90 fits\n"
          ],
          "name": "stdout"
        },
        {
          "output_type": "stream",
          "text": [
            "[Parallel(n_jobs=-1)]: Using backend LokyBackend with 2 concurrent workers.\n",
            "[Parallel(n_jobs=-1)]: Done  90 out of  90 | elapsed:    1.6s finished\n",
            "[Parallel(n_jobs=-1)]: Using backend LokyBackend with 2 concurrent workers.\n"
          ],
          "name": "stderr"
        },
        {
          "output_type": "stream",
          "text": [
            "0.89\n",
            "Fitting 10 folds for each of 9 candidates, totalling 90 fits\n"
          ],
          "name": "stdout"
        },
        {
          "output_type": "stream",
          "text": [
            "[Parallel(n_jobs=-1)]: Done  90 out of  90 | elapsed:    1.5s finished\n"
          ],
          "name": "stderr"
        },
        {
          "output_type": "stream",
          "text": [
            "0.89\n",
            "200\n",
            "(500, 180)\n",
            "(500, 180)\n",
            "Fitting 10 folds for each of 9 candidates, totalling 90 fits\n"
          ],
          "name": "stdout"
        },
        {
          "output_type": "stream",
          "text": [
            "[Parallel(n_jobs=-1)]: Using backend LokyBackend with 2 concurrent workers.\n",
            "[Parallel(n_jobs=-1)]: Done  90 out of  90 | elapsed:    1.5s finished\n",
            "[Parallel(n_jobs=-1)]: Using backend LokyBackend with 2 concurrent workers.\n"
          ],
          "name": "stderr"
        },
        {
          "output_type": "stream",
          "text": [
            "0.892\n",
            "Fitting 10 folds for each of 9 candidates, totalling 90 fits\n"
          ],
          "name": "stdout"
        },
        {
          "output_type": "stream",
          "text": [
            "[Parallel(n_jobs=-1)]: Done  90 out of  90 | elapsed:    1.4s finished\n"
          ],
          "name": "stderr"
        },
        {
          "output_type": "stream",
          "text": [
            "0.8940000000000001\n",
            "180\n",
            "(500, 160)\n",
            "(500, 160)\n",
            "Fitting 10 folds for each of 9 candidates, totalling 90 fits\n"
          ],
          "name": "stdout"
        },
        {
          "output_type": "stream",
          "text": [
            "[Parallel(n_jobs=-1)]: Using backend LokyBackend with 2 concurrent workers.\n",
            "[Parallel(n_jobs=-1)]: Done  90 out of  90 | elapsed:    1.4s finished\n",
            "[Parallel(n_jobs=-1)]: Using backend LokyBackend with 2 concurrent workers.\n"
          ],
          "name": "stderr"
        },
        {
          "output_type": "stream",
          "text": [
            "0.8959999999999999\n",
            "Fitting 10 folds for each of 9 candidates, totalling 90 fits\n"
          ],
          "name": "stdout"
        },
        {
          "output_type": "stream",
          "text": [
            "[Parallel(n_jobs=-1)]: Done  90 out of  90 | elapsed:    1.4s finished\n"
          ],
          "name": "stderr"
        },
        {
          "output_type": "stream",
          "text": [
            "0.8880000000000001\n",
            "160\n",
            "(500, 140)\n",
            "(500, 140)\n",
            "Fitting 10 folds for each of 9 candidates, totalling 90 fits\n"
          ],
          "name": "stdout"
        },
        {
          "output_type": "stream",
          "text": [
            "[Parallel(n_jobs=-1)]: Using backend LokyBackend with 2 concurrent workers.\n",
            "[Parallel(n_jobs=-1)]: Done  90 out of  90 | elapsed:    1.4s finished\n",
            "[Parallel(n_jobs=-1)]: Using backend LokyBackend with 2 concurrent workers.\n"
          ],
          "name": "stderr"
        },
        {
          "output_type": "stream",
          "text": [
            "0.8580000000000002\n",
            "Fitting 10 folds for each of 9 candidates, totalling 90 fits\n"
          ],
          "name": "stdout"
        },
        {
          "output_type": "stream",
          "text": [
            "[Parallel(n_jobs=-1)]: Done  90 out of  90 | elapsed:    1.4s finished\n"
          ],
          "name": "stderr"
        },
        {
          "output_type": "stream",
          "text": [
            "0.8720000000000001\n",
            "140\n",
            "(500, 120)\n",
            "(500, 120)\n",
            "Fitting 10 folds for each of 9 candidates, totalling 90 fits\n"
          ],
          "name": "stdout"
        },
        {
          "output_type": "stream",
          "text": [
            "[Parallel(n_jobs=-1)]: Using backend LokyBackend with 2 concurrent workers.\n",
            "[Parallel(n_jobs=-1)]: Done  90 out of  90 | elapsed:    1.7s finished\n",
            "[Parallel(n_jobs=-1)]: Using backend LokyBackend with 2 concurrent workers.\n"
          ],
          "name": "stderr"
        },
        {
          "output_type": "stream",
          "text": [
            "0.866\n",
            "Fitting 10 folds for each of 9 candidates, totalling 90 fits\n"
          ],
          "name": "stdout"
        },
        {
          "output_type": "stream",
          "text": [
            "[Parallel(n_jobs=-1)]: Done  90 out of  90 | elapsed:    1.6s finished\n"
          ],
          "name": "stderr"
        },
        {
          "output_type": "stream",
          "text": [
            "0.8620000000000001\n",
            "120\n",
            "(500, 100)\n",
            "(500, 100)\n",
            "Fitting 10 folds for each of 9 candidates, totalling 90 fits\n"
          ],
          "name": "stdout"
        },
        {
          "output_type": "stream",
          "text": [
            "[Parallel(n_jobs=-1)]: Using backend LokyBackend with 2 concurrent workers.\n",
            "[Parallel(n_jobs=-1)]: Done  90 out of  90 | elapsed:    2.7s finished\n",
            "[Parallel(n_jobs=-1)]: Using backend LokyBackend with 2 concurrent workers.\n"
          ],
          "name": "stderr"
        },
        {
          "output_type": "stream",
          "text": [
            "0.8460000000000001\n",
            "Fitting 10 folds for each of 9 candidates, totalling 90 fits\n"
          ],
          "name": "stdout"
        },
        {
          "output_type": "stream",
          "text": [
            "[Parallel(n_jobs=-1)]: Done  90 out of  90 | elapsed:    2.4s finished\n"
          ],
          "name": "stderr"
        },
        {
          "output_type": "stream",
          "text": [
            "0.8699999999999999\n",
            "100\n",
            "(500, 80)\n",
            "(500, 80)\n",
            "Fitting 10 folds for each of 9 candidates, totalling 90 fits\n"
          ],
          "name": "stdout"
        },
        {
          "output_type": "stream",
          "text": [
            "[Parallel(n_jobs=-1)]: Using backend LokyBackend with 2 concurrent workers.\n"
          ],
          "name": "stderr"
        }
      ]
    },
    {
      "cell_type": "code",
      "metadata": {
        "id": "HMgj1-1ET2n1",
        "colab_type": "code",
        "outputId": "96dee42c-67c9-4229-86a3-7b743b7050f8",
        "colab": {
          "base_uri": "https://localhost:8080/",
          "height": 660
        }
      },
      "source": [
        "print(\"Stats for MNIST dataset\")\n",
        "print(\"No. of Training Samples = \",ns)\n",
        "print(\"No. of Testing Samples = \",nt)\n",
        "print(\"Dimensions of images 28*28\")\n",
        "print(\"Number of features in data domain (originally) = 784\")\n",
        "print(\"Train accuracy in original domain = \", train_data)\n",
        "print(\"Test accuracy in original domain = \", test_data)\n",
        "from matplotlib import pyplot as plt\n",
        "plt.plot(meas,test_acc_g,label='Gaussian')\n",
        "plt.plot(meas,test_acc_b,label='Bernoulli')\n",
        "plt.xlabel('Measurements')\n",
        "plt.ylabel('Test Accuracy')\n",
        "plt.legend()\n",
        "plt.show()\n",
        "plt.plot(meas,train_acc_g,label='Gaussian')\n",
        "plt.plot(meas,train_acc_b,label='Bernoulli')\n",
        "plt.xlabel('Measurements')\n",
        "plt.ylabel('Train Accuracy')\n",
        "plt.legend()\n",
        "plt.show()"
      ],
      "execution_count": 0,
      "outputs": [
        {
          "output_type": "stream",
          "text": [
            "Stats for MNIST dataset\n",
            "No. of Training Samples =  500\n",
            "No. of Testing Samples =  2000\n",
            "Dimensions of images 28*28\n",
            "Number of features in data domain (originally) = 784\n",
            "Train accuracy in original domain =  1.0\n",
            "Test accuracy in original domain =  0.882\n"
          ],
          "name": "stdout"
        },
        {
          "output_type": "display_data",
          "data": {
            "image/png": "[encoded data removed]",
            "text/plain": [
              "<Figure size 432x288 with 1 Axes>"
            ]
          },
          "metadata": {
            "tags": [],
            "needs_background": "light"
          }
        },
        {
          "output_type": "display_data",
          "data": {
            "image/png": "[encoded data removed]",
            "text/plain": [
              "<Figure size 432x288 with 1 Axes>"
            ]
          },
          "metadata": {
            "tags": [],
            "needs_background": "light"
          }
        }
      ]
    },
    {
      "cell_type": "code",
      "metadata": {
        "id": "9FzaQFuic_VI",
        "colab_type": "code",
        "outputId": "5e031800-c457-4cc8-d7af-785431dcf6f8",
        "colab": {
          "base_uri": "https://localhost:8080/",
          "height": 122
        }
      },
      "source": [
        "print(train_acc_g)\n",
        "print(train_acc_b)\n",
        "print(test_acc_g)\n",
        "print(test_acc_b)\n",
        "print(meas)"
      ],
      "execution_count": 0,
      "outputs": [
        {
          "output_type": "stream",
          "text": [
            "[1.0, 1.0, 1.0, 1.0, 1.0, 1.0, 1.0, 1.0, 1.0, 1.0, 1.0, 1.0, 1.0, 1.0, 1.0, 1.0, 1.0, 1.0, 1.0, 1.0, 1.0, 1.0, 1.0, 1.0, 1.0, 1.0, 1.0, 1.0, 1.0, 1.0, 1.0, 1.0, 1.0, 1.0, 1.0, 1.0]\n",
            "[1.0, 1.0, 1.0, 1.0, 1.0, 1.0, 1.0, 1.0, 1.0, 1.0, 1.0, 1.0, 1.0, 1.0, 1.0, 1.0, 1.0, 1.0, 1.0, 1.0, 1.0, 1.0, 1.0, 1.0, 1.0, 1.0, 1.0, 1.0, 1.0, 1.0, 1.0, 1.0, 1.0, 1.0, 1.0, 1.0]\n",
            "[0.883, 0.876, 0.8805, 0.881, 0.887, 0.878, 0.876, 0.877, 0.874, 0.8765, 0.87, 0.874, 0.886, 0.8855, 0.8775, 0.876, 0.869, 0.872, 0.877, 0.87, 0.8755, 0.8765, 0.871, 0.88, 0.8675, 0.8635, 0.879, 0.8535, 0.861, 0.8585, 0.8595, 0.8675, 0.8485, 0.8345, 0.8115, 0.8505]\n",
            "[0.891, 0.8815, 0.883, 0.88, 0.8845, 0.8695, 0.877, 0.8765, 0.8765, 0.8725, 0.8755, 0.877, 0.8755, 0.871, 0.8775, 0.878, 0.8845, 0.8815, 0.886, 0.88, 0.8635, 0.884, 0.8725, 0.868, 0.876, 0.8795, 0.8745, 0.873, 0.8625, 0.8745, 0.8635, 0.868, 0.8635, 0.842, 0.8555, 0.838]\n",
            "[800, 780, 760, 740, 720, 700, 680, 660, 640, 620, 600, 580, 560, 540, 520, 500, 480, 460, 440, 420, 400, 380, 360, 340, 320, 300, 280, 260, 240, 220, 200, 180, 160, 140, 120, 100]\n"
          ],
          "name": "stdout"
        }
      ]
    },
    {
      "cell_type": "code",
      "metadata": {
        "id": "IFiLNSuqOdfb",
        "colab_type": "code",
        "colab": {}
      },
      "source": [
        "# from sklearn.preprocessing import StandardScaler\n",
        "# # e=np.identity(784)\n",
        "# # x_train=np.matmul(x_train,e)\n",
        "# # x_train_s = StandardScaler().fit_transform(x_train)\n",
        "# x_train_s = x_train\n",
        "# print(x_train_s.shape)"
      ],
      "execution_count": 0,
      "outputs": []
    },
    {
      "cell_type": "code",
      "metadata": {
        "id": "PHfvY6emQACN",
        "colab_type": "code",
        "colab": {}
      },
      "source": [
        "# from sklearn.decomposition import PCA\n",
        "# pca = PCA(n_components=100)\n",
        "# p1 = pca.fit(x_train_s)\n",
        "# print(pca.explained_variance_ratio_)"
      ],
      "execution_count": 0,
      "outputs": []
    },
    {
      "cell_type": "code",
      "metadata": {
        "id": "yXWmOlSSQ2mO",
        "colab_type": "code",
        "outputId": "892b568f-bbd9-42ea-bf95-fcb94e0dba3a",
        "colab": {
          "base_uri": "https://localhost:8080/",
          "height": 323
        }
      },
      "source": [
        "# pca2 = PCA(100)\n",
        "# pca2.fit(x_train_s)\n",
        "# print(pca2.explained_variance_ratio_)\n",
        "# print(np.sum(pca2.explained_variance_ratio_))"
      ],
      "execution_count": 0,
      "outputs": [
        {
          "output_type": "stream",
          "text": [
            "[0.1187872  0.07602445 0.06104695 0.05761873 0.04419068 0.03726334\n",
            " 0.03101868 0.03000281 0.02844271 0.02411497 0.02143465 0.01972672\n",
            " 0.01903912 0.01706615 0.01564088 0.01525045 0.01465126 0.01345674\n",
            " 0.0127508  0.01180023 0.01139071 0.01082283 0.00931059 0.00913229\n",
            " 0.00862724 0.00840951 0.00788485 0.00763385 0.00701885 0.00689526\n",
            " 0.006626   0.00637509 0.00627922 0.00603032 0.00588726 0.00552375\n",
            " 0.00533307 0.00516881 0.00495445 0.0046778  0.0044384  0.00421031\n",
            " 0.00409538 0.0038901  0.00378071 0.00370007 0.00359166 0.00357035\n",
            " 0.0033973  0.0033085  0.00324312 0.00303653 0.00288717 0.0028718\n",
            " 0.00281096 0.00277219 0.00264129 0.00249072 0.00243559 0.00235564\n",
            " 0.00228506 0.00221647 0.00220177 0.00213945 0.00210565 0.00201262\n",
            " 0.00200479 0.00193307 0.00190787 0.00184419 0.0017829  0.00173486\n",
            " 0.00169417 0.00166654 0.00162604 0.00161814 0.00157097 0.00154003\n",
            " 0.00150493 0.00141698 0.00140607 0.00136533 0.00134852 0.00131496\n",
            " 0.00128084 0.00127241 0.00124901 0.00122073 0.00120059 0.00116977\n",
            " 0.00114454 0.00111074 0.00107388 0.0010556  0.00101676 0.00099729\n",
            " 0.0009776  0.00093873 0.00093168 0.00091045]\n",
            "0.9386290921772807\n"
          ],
          "name": "stdout"
        }
      ]
    },
    {
      "cell_type": "code",
      "metadata": {
        "id": "TP_z5RXnQU7w",
        "colab_type": "code",
        "outputId": "873d87af-de1a-4479-8e98-4bb216e3d41c",
        "colab": {
          "base_uri": "https://localhost:8080/",
          "height": 323
        }
      },
      "source": [
        "# print(pca2.explained_variance_ratio_)\n",
        "# print(pca2.explained_variance_ratio_.shape)"
      ],
      "execution_count": 0,
      "outputs": [
        {
          "output_type": "stream",
          "text": [
            "[0.1187872  0.07602445 0.06104695 0.05761873 0.04419068 0.03726334\n",
            " 0.03101868 0.03000281 0.02844271 0.02411497 0.02143465 0.01972672\n",
            " 0.01903912 0.01706615 0.01564088 0.01525045 0.01465126 0.01345674\n",
            " 0.0127508  0.01180023 0.01139071 0.01082283 0.00931059 0.00913229\n",
            " 0.00862724 0.00840951 0.00788485 0.00763385 0.00701885 0.00689526\n",
            " 0.006626   0.00637509 0.00627922 0.00603032 0.00588726 0.00552375\n",
            " 0.00533307 0.00516881 0.00495445 0.0046778  0.0044384  0.00421031\n",
            " 0.00409538 0.0038901  0.00378071 0.00370007 0.00359166 0.00357035\n",
            " 0.0033973  0.0033085  0.00324312 0.00303653 0.00288717 0.0028718\n",
            " 0.00281096 0.00277219 0.00264129 0.00249072 0.00243559 0.00235564\n",
            " 0.00228506 0.00221647 0.00220177 0.00213945 0.00210565 0.00201262\n",
            " 0.00200479 0.00193307 0.00190787 0.00184419 0.0017829  0.00173486\n",
            " 0.00169417 0.00166654 0.00162604 0.00161814 0.00157097 0.00154003\n",
            " 0.00150493 0.00141698 0.00140607 0.00136533 0.00134852 0.00131496\n",
            " 0.00128084 0.00127241 0.00124901 0.00122073 0.00120059 0.00116977\n",
            " 0.00114454 0.00111074 0.00107388 0.0010556  0.00101676 0.00099729\n",
            " 0.0009776  0.00093873 0.00093168 0.00091045]\n",
            "(100,)\n"
          ],
          "name": "stdout"
        }
      ]
    },
    {
      "cell_type": "code",
      "metadata": {
        "id": "dxfmj0hFRiIj",
        "colab_type": "code",
        "outputId": "2bb386da-af2a-4152-8aa9-ba681f93d2c5",
        "colab": {
          "base_uri": "https://localhost:8080/",
          "height": 340
        }
      },
      "source": [
        "# # x_train_g_s = StandardScaler().fit_transform(x_train_g)\n",
        "# x_train_g_s = x_train_g\n",
        "# pca3 = PCA(100)\n",
        "# pca3.fit(x_train_g_s)\n",
        "# print(pca3.explained_variance_ratio_)\n",
        "# print(np.sum(pca3.explained_variance_ratio_))\n",
        "# print(pca3.explained_variance_ratio_.shape)\n",
        "# print(pca3.transform(x_train_g_s))\n",
        "# print(pca3.transform(x_train_g_s).shape)\n",
        "# p3=pca3.transform(x_train_g_s)"
      ],
      "execution_count": 0,
      "outputs": [
        {
          "output_type": "stream",
          "text": [
            "[0.10136557 0.08884812 0.07133839 0.060348   0.0489301  0.041918\n",
            " 0.04049491 0.03210349 0.02946936 0.02528267 0.02274691 0.02173362\n",
            " 0.02010017 0.01784548 0.01749369 0.0163638  0.01445538 0.01313563\n",
            " 0.0130017  0.01290844 0.01181681 0.01129066 0.01066643 0.00992211\n",
            " 0.00939147 0.00878199 0.00842141 0.00789705 0.0073277  0.00723026\n",
            " 0.00693794 0.0065028  0.00639558 0.00627498 0.00590695 0.00577146\n",
            " 0.00532779 0.00517917 0.00495064 0.0045746  0.00448405 0.00427659\n",
            " 0.00407023 0.00396634 0.00388147 0.00365967 0.00351846 0.00340114\n",
            " 0.00330532 0.00307051 0.00301261 0.00289087 0.00279516 0.00271143\n",
            " 0.00257429 0.00242653 0.00238336 0.00226191 0.00222555 0.00217695\n",
            " 0.00202833 0.00199503 0.00196973 0.00192673 0.00188594 0.00186235\n",
            " 0.00184918 0.00180246 0.00170594 0.00163601 0.00159782 0.00155834\n",
            " 0.00153391 0.00150529 0.00145637 0.00139384 0.00135056 0.00134569\n",
            " 0.00128714 0.00124701 0.00120438 0.00118428 0.00113874 0.00112914\n",
            " 0.00108647 0.00107133 0.00103691 0.00100318 0.00095671 0.00094717\n",
            " 0.00091239 0.0008824  0.000841   0.00082065 0.00080068 0.00078522\n",
            " 0.00077276 0.00076253 0.00075778 0.0007357 ]\n",
            "0.9753107226318692\n",
            "(100,)\n"
          ],
          "name": "stdout"
        }
      ]
    },
    {
      "cell_type": "code",
      "metadata": {
        "id": "vz3I9QcIS2os",
        "colab_type": "code",
        "outputId": "b5bd9f19-634b-48de-baa0-39922f468073",
        "colab": {
          "base_uri": "https://localhost:8080/",
          "height": 255
        }
      },
      "source": [
        "# print(pca2.transform(x_train_s))\n",
        "# p2=pca2.transform(x_train_s)\n",
        "# print(pca2.transform(x_train_s).shape)"
      ],
      "execution_count": 0,
      "outputs": [
        {
          "output_type": "stream",
          "text": [
            "[[   93.77549469  -112.96252599  -694.95271395 ...    12.47921129\n",
            "    -71.97629731    26.81630453]\n",
            " [   48.00456725  -295.43262103   759.75228033 ...     7.09205976\n",
            "    191.37987836    99.93252753]\n",
            " [ -387.93404847  -375.40029327   463.89934244 ...   -51.29385901\n",
            "     62.15847244   117.75716271]\n",
            " ...\n",
            " [  352.45649736   189.5021722    479.92515627 ...  -153.3619427\n",
            "    -52.63169093  -115.56540577]\n",
            " [-1047.34799139   289.86889345   351.48319449 ...   -29.47659195\n",
            "     25.63104309   -55.3834367 ]\n",
            " [  731.38837885  -698.63698837   384.80718565 ...   -12.17517292\n",
            "     -9.78134263    -8.03557871]]\n",
            "(500, 100)\n"
          ],
          "name": "stdout"
        }
      ]
    },
    {
      "cell_type": "code",
      "metadata": {
        "id": "wmih-YbVT6yw",
        "colab_type": "code",
        "outputId": "94bee4f6-f6bd-47d3-a2e1-91721a0d27ad",
        "colab": {
          "base_uri": "https://localhost:8080/",
          "height": 255
        }
      },
      "source": [
        "# print(pca2.components_)\n",
        "# print(pca2.components_.shape)"
      ],
      "execution_count": 0,
      "outputs": [
        {
          "output_type": "stream",
          "text": [
            "[[ 1.17120295e-17  6.17823562e-18 -1.80831046e-18 ...  0.00000000e+00\n",
            "   0.00000000e+00  0.00000000e+00]\n",
            " [-1.25816057e-16 -7.17142133e-17  1.70635117e-17 ... -0.00000000e+00\n",
            "  -0.00000000e+00 -0.00000000e+00]\n",
            " [-5.72977030e-17  7.49827322e-17 -2.81390298e-18 ...  0.00000000e+00\n",
            "   0.00000000e+00  0.00000000e+00]\n",
            " ...\n",
            " [ 5.14368503e-15 -5.00147208e-15  2.86671485e-15 ... -0.00000000e+00\n",
            "  -0.00000000e+00 -0.00000000e+00]\n",
            " [-1.47627528e-15  6.92090998e-16  2.95727361e-15 ... -0.00000000e+00\n",
            "  -0.00000000e+00 -0.00000000e+00]\n",
            " [ 6.57209443e-15  3.81986418e-16  5.89704168e-15 ...  0.00000000e+00\n",
            "   0.00000000e+00  0.00000000e+00]]\n",
            "(100, 784)\n"
          ],
          "name": "stdout"
        }
      ]
    },
    {
      "cell_type": "code",
      "metadata": {
        "id": "ER9-iAqvUnun",
        "colab_type": "code",
        "outputId": "f3f83891-9096-48a4-fa73-b5f6377977d5",
        "colab": {
          "base_uri": "https://localhost:8080/",
          "height": 255
        }
      },
      "source": [
        "# print(pca3.components_)\n",
        "# print(pca3.components_.shape)"
      ],
      "execution_count": 0,
      "outputs": [
        {
          "output_type": "stream",
          "text": [
            "[[ 0.01051753 -0.01433448  0.07061212 ...  0.04902194  0.00973866\n",
            "   0.0468803 ]\n",
            " [-0.01355811  0.01370842 -0.02664255 ... -0.01389386 -0.00152329\n",
            "  -0.02741747]\n",
            " [ 0.1222946   0.00218178  0.06322695 ... -0.06567156 -0.08421939\n",
            "  -0.07447478]\n",
            " ...\n",
            " [ 0.01541889  0.03329524  0.0481359  ...  0.04748982 -0.09662783\n",
            "   0.0333932 ]\n",
            " [-0.04274338  0.01112188 -0.02250073 ... -0.02027999 -0.05215625\n",
            "   0.00921714]\n",
            " [-0.08440445  0.11669689 -0.0234734  ...  0.02056057 -0.03041587\n",
            "  -0.02011582]]\n",
            "(100, 200)\n"
          ],
          "name": "stdout"
        }
      ]
    },
    {
      "cell_type": "code",
      "metadata": {
        "id": "1FQbJBo7U_GK",
        "colab_type": "code",
        "outputId": "9c91ef04-76b9-4a8d-b2d2-68e07c60ba8a",
        "colab": {
          "base_uri": "https://localhost:8080/",
          "height": 255
        }
      },
      "source": [
        "# print(A.shape)\n",
        "# print(np.matmul(pca2.components_, A.T)/m**0.5)"
      ],
      "execution_count": 0,
      "outputs": [
        {
          "output_type": "stream",
          "text": [
            "(200, 784)\n",
            "[[-0.01345875 -0.02153387  0.05062122 ...  0.0578118   0.02765047\n",
            "   0.06406866]\n",
            " [-0.04845799  0.02559786 -0.02369851 ...  0.00974163  0.0077139\n",
            "  -0.00992022]\n",
            " [ 0.11148777 -0.01638759  0.07989597 ... -0.0600941  -0.09330948\n",
            "  -0.11067085]\n",
            " ...\n",
            " [-0.04981458  0.00569272 -0.15470102 ... -0.14737023  0.01685272\n",
            "   0.08455821]\n",
            " [-0.02512094  0.00434216  0.01717218 ... -0.01074811 -0.08361906\n",
            "  -0.00960689]\n",
            " [-0.07544536 -0.01026065  0.04494983 ...  0.03091999  0.05464291\n",
            "  -0.0567323 ]]\n"
          ],
          "name": "stdout"
        }
      ]
    },
    {
      "cell_type": "code",
      "metadata": {
        "id": "3eU4lL4FYT-b",
        "colab_type": "code",
        "colab": {}
      },
      "source": [
        ""
      ],
      "execution_count": 0,
      "outputs": []
    },
    {
      "cell_type": "code",
      "metadata": {
        "id": "u-N6rXQrVsR2",
        "colab_type": "code",
        "outputId": "20eb49d8-1259-4905-9b01-759824f403f9",
        "colab": {
          "base_uri": "https://localhost:8080/",
          "height": 1000
        }
      },
      "source": [
        "# exp=np.matmul(pca2.components_, A.T)/m**0.5\n",
        "# # exp=exp/np.linalg.norm(exp, ord=2, axis=1, keepdims=True)\n",
        "# print(exp/np.linalg.norm(exp, ord=2, axis=1, keepdims=True))\n",
        "# print(np.linalg.norm(exp, ord=2, axis=1, keepdims=True))"
      ],
      "execution_count": 0,
      "outputs": [
        {
          "output_type": "stream",
          "text": [
            "[[-0.01511097 -0.0241774   0.05683556 ...  0.06490887  0.03104489\n",
            "   0.07193383]\n",
            " [-0.0465449   0.02458728 -0.02276291 ...  0.00935704  0.00740936\n",
            "  -0.00952858]\n",
            " [ 0.10791063 -0.01586179  0.07733246 ... -0.05816595 -0.0903156\n",
            "  -0.10711992]\n",
            " ...\n",
            " [-0.04756956  0.00543617 -0.14772903 ... -0.14072862  0.0160932\n",
            "   0.08074738]\n",
            " [-0.02427694  0.00419628  0.01659524 ... -0.010387   -0.08080966\n",
            "  -0.00928412]\n",
            " [-0.07523401 -0.01023191  0.04482392 ...  0.03083337  0.05448984\n",
            "  -0.05657337]]\n",
            "[[0.89066105]\n",
            " [1.04110196]\n",
            " [1.03314911]\n",
            " [0.95616669]\n",
            " [1.05842841]\n",
            " [0.9974882 ]\n",
            " [1.06347892]\n",
            " [1.0539605 ]\n",
            " [1.01405241]\n",
            " [0.92092341]\n",
            " [0.9631496 ]\n",
            " [0.94994901]\n",
            " [0.9596576 ]\n",
            " [0.96558902]\n",
            " [1.01608326]\n",
            " [1.02895515]\n",
            " [1.01430719]\n",
            " [1.01786808]\n",
            " [0.9797709 ]\n",
            " [1.0244365 ]\n",
            " [0.9670145 ]\n",
            " [0.93795286]\n",
            " [1.04037827]\n",
            " [0.91866948]\n",
            " [1.04167781]\n",
            " [1.00073001]\n",
            " [1.0721994 ]\n",
            " [1.04342717]\n",
            " [0.98916638]\n",
            " [0.99818479]\n",
            " [0.96461871]\n",
            " [1.03204839]\n",
            " [1.0423364 ]\n",
            " [0.93394599]\n",
            " [1.04266691]\n",
            " [1.01492423]\n",
            " [0.9853859 ]\n",
            " [1.05398094]\n",
            " [0.98771309]\n",
            " [1.00284707]\n",
            " [0.94631697]\n",
            " [0.99431612]\n",
            " [1.01888789]\n",
            " [1.03212863]\n",
            " [1.03947869]\n",
            " [1.05699164]\n",
            " [1.00812787]\n",
            " [1.05174212]\n",
            " [0.93716147]\n",
            " [0.93247187]\n",
            " [1.04729903]\n",
            " [1.0016021 ]\n",
            " [1.06521248]\n",
            " [1.02194362]\n",
            " [0.94661726]\n",
            " [0.85979046]\n",
            " [1.1027194 ]\n",
            " [1.04565134]\n",
            " [0.95704789]\n",
            " [0.87553278]\n",
            " [0.92188271]\n",
            " [1.03274321]\n",
            " [0.98356026]\n",
            " [0.96308478]\n",
            " [0.97511923]\n",
            " [0.99188704]\n",
            " [0.91987426]\n",
            " [1.01774358]\n",
            " [0.9552449 ]\n",
            " [0.94825168]\n",
            " [0.9582941 ]\n",
            " [1.00979451]\n",
            " [1.03453907]\n",
            " [0.97809902]\n",
            " [1.0968468 ]\n",
            " [1.01002907]\n",
            " [0.93391361]\n",
            " [0.98491417]\n",
            " [1.05447775]\n",
            " [0.91142263]\n",
            " [0.9707721 ]\n",
            " [1.01634586]\n",
            " [0.86578571]\n",
            " [1.03294612]\n",
            " [1.0187463 ]\n",
            " [1.05680737]\n",
            " [0.97852005]\n",
            " [0.99154647]\n",
            " [1.0080611 ]\n",
            " [0.95912828]\n",
            " [0.93642488]\n",
            " [1.07312913]\n",
            " [0.95912937]\n",
            " [1.02055513]\n",
            " [1.10690133]\n",
            " [0.98408752]\n",
            " [1.00690179]\n",
            " [1.04719447]\n",
            " [1.03476554]\n",
            " [1.00280915]]\n"
          ],
          "name": "stdout"
        }
      ]
    },
    {
      "cell_type": "code",
      "metadata": {
        "id": "NV3LSGCaY4IA",
        "colab_type": "code",
        "outputId": "18cf0eee-ac0a-479f-ed04-f63e0dcbb43a",
        "colab": {
          "base_uri": "https://localhost:8080/",
          "height": 1000
        }
      },
      "source": [
        "# d=np.sqrt(np.sum(((exp - pca3.components_) ** 2),axis=1,keepdims=True)/np.sum(((pca3.components_) ** 2),axis=1,keepdims=True))\n",
        "# print(d.shape)\n",
        "# print(d)"
      ],
      "execution_count": 0,
      "outputs": [
        {
          "output_type": "stream",
          "text": [
            "(100, 1)\n",
            "[[0.34535823]\n",
            " [0.44159351]\n",
            " [0.53885665]\n",
            " [1.86192442]\n",
            " [1.95700426]\n",
            " [1.64145775]\n",
            " [0.9408333 ]\n",
            " [0.91136135]\n",
            " [1.78380266]\n",
            " [0.83014942]\n",
            " [1.52298266]\n",
            " [1.59562985]\n",
            " [1.20114571]\n",
            " [1.47951832]\n",
            " [1.56232117]\n",
            " [1.74121068]\n",
            " [1.47785174]\n",
            " [1.32436517]\n",
            " [1.22674169]\n",
            " [1.58625888]\n",
            " [1.26835963]\n",
            " [1.48760292]\n",
            " [1.10423861]\n",
            " [1.45397638]\n",
            " [1.51617427]\n",
            " [1.67760834]\n",
            " [1.43454186]\n",
            " [1.44878009]\n",
            " [1.65321201]\n",
            " [1.26220403]\n",
            " [1.43011179]\n",
            " [1.44668894]\n",
            " [1.56913959]\n",
            " [1.36883261]\n",
            " [1.51500926]\n",
            " [1.38650727]\n",
            " [1.67515939]\n",
            " [1.58810757]\n",
            " [1.65658987]\n",
            " [1.29895683]\n",
            " [1.40785653]\n",
            " [1.29624004]\n",
            " [1.49636938]\n",
            " [1.26006193]\n",
            " [1.3497903 ]\n",
            " [1.45677536]\n",
            " [1.39499108]\n",
            " [1.2058093 ]\n",
            " [1.5190142 ]\n",
            " [1.44944069]\n",
            " [1.35946226]\n",
            " [1.40487394]\n",
            " [1.50178539]\n",
            " [1.36083041]\n",
            " [1.63341816]\n",
            " [1.38529757]\n",
            " [1.51475026]\n",
            " [1.33061555]\n",
            " [1.30353721]\n",
            " [1.2419419 ]\n",
            " [1.46113135]\n",
            " [1.47456432]\n",
            " [1.42264636]\n",
            " [1.1451985 ]\n",
            " [1.39190877]\n",
            " [1.40227314]\n",
            " [1.25088813]\n",
            " [1.23576374]\n",
            " [1.30525957]\n",
            " [1.33241822]\n",
            " [1.1957398 ]\n",
            " [1.35993611]\n",
            " [1.37668723]\n",
            " [1.38373401]\n",
            " [1.57089249]\n",
            " [1.42174302]\n",
            " [1.33929265]\n",
            " [1.30059923]\n",
            " [1.36019275]\n",
            " [1.24188785]\n",
            " [1.23692147]\n",
            " [1.43981048]\n",
            " [1.3132175 ]\n",
            " [1.47888002]\n",
            " [1.38413176]\n",
            " [1.43954927]\n",
            " [1.39703239]\n",
            " [1.37205863]\n",
            " [1.42830203]\n",
            " [1.46504697]\n",
            " [1.41871863]\n",
            " [1.42711008]\n",
            " [1.32161276]\n",
            " [1.4694398 ]\n",
            " [1.57107837]\n",
            " [1.37498114]\n",
            " [1.55015674]\n",
            " [1.46089455]\n",
            " [1.40736608]\n",
            " [1.29269895]]\n"
          ],
          "name": "stdout"
        }
      ]
    },
    {
      "cell_type": "code",
      "metadata": {
        "id": "xviRWdXbbKx_",
        "colab_type": "code",
        "outputId": "18d4e10a-02ff-4094-aee4-f2080eb62962",
        "colab": {
          "base_uri": "https://localhost:8080/",
          "height": 374
        }
      },
      "source": [
        "# print(np.matmul(x_train_g,x_train_g.T))\n",
        "# print()\n",
        "# print(np.matmul(x_train,x_train.T))"
      ],
      "execution_count": 0,
      "outputs": [
        {
          "output_type": "stream",
          "text": [
            "[[4762719.97604734 2647520.14809971  935513.02561291 ... 1541642.89979657\n",
            "  2633514.99754573 1347046.60003925]\n",
            " [2647520.14809971 9788425.93711823 2772690.18882019 ... 2428364.53668376\n",
            "  4867962.39016634 2651072.49990036]\n",
            " [ 935513.02561291 2772690.18882019 3875996.16699548 ... 1069189.11023283\n",
            "  2623148.1857106  1337015.92699937]\n",
            " ...\n",
            " [1541642.89979657 2428364.53668376 1069189.11023283 ... 7387579.37591788\n",
            "  2057250.53372578 2994199.51053679]\n",
            " [2633514.99754573 4867962.39016634 2623148.1857106  ... 2057250.53372578\n",
            "  6596103.51977023 1562814.16331764]\n",
            " [1347046.60003925 2651072.49990036 1337015.92699937 ... 2994199.51053679\n",
            "  1562814.16331764 4613882.3777731 ]]\n",
            "\n",
            "[[4911926. 2964366. 1144113. ... 1584636. 2595095. 2239907.]\n",
            " [2964366. 9769138. 2914362. ... 2822156. 4985827. 3520947.]\n",
            " [1144113. 2914362. 3662527. ... 1163343. 2219314. 1503692.]\n",
            " ...\n",
            " [1584636. 2822156. 1163343. ... 6742444. 2128127. 2676895.]\n",
            " [2595095. 4985827. 2219314. ... 2128127. 6803373. 1594382.]\n",
            " [2239907. 3520947. 1503692. ... 2676895. 1594382. 5331041.]]\n"
          ],
          "name": "stdout"
        }
      ]
    },
    {
      "cell_type": "code",
      "metadata": {
        "id": "6ZyWpHDwpxjo",
        "colab_type": "code",
        "outputId": "4654544f-ee0a-4853-caa1-9e6303388a2e",
        "colab": {
          "base_uri": "https://localhost:8080/",
          "height": 187
        }
      },
      "source": [
        "# for i in list(range(0,10)):\n",
        "#   print(np.dot(exp[i,:],pca3.components_[i,:]) /(np.linalg.norm(exp[i,:]) * np.linalg.norm(pca3.components_[i,:])))"
      ],
      "execution_count": 0,
      "outputs": [
        {
          "output_type": "stream",
          "text": [
            "0.9397541309163913\n",
            "0.9071582486685295\n",
            "0.8600068336743151\n",
            "-0.811839517645674\n",
            "-0.8076101098239998\n",
            "-0.3505809965687908\n",
            "0.585728633690942\n",
            "0.6073535085025124\n",
            "-0.5688313651896967\n",
            "0.629233577468679\n"
          ],
          "name": "stdout"
        }
      ]
    },
    {
      "cell_type": "code",
      "metadata": {
        "id": "C6ny1QpAslu0",
        "colab_type": "code",
        "outputId": "d3e26162-37e3-4152-9388-89c9e1d32806",
        "colab": {
          "base_uri": "https://localhost:8080/",
          "height": 187
        }
      },
      "source": [
        "# for i in list(range(0,10)):\n",
        "#   print(np.dot(p2[i,:],p3[i,:]) /(np.linalg.norm(p2[i,:]) * np.linalg.norm(p3[i,:])))"
      ],
      "execution_count": 0,
      "outputs": [
        {
          "output_type": "stream",
          "text": [
            "0.07960057864787332\n",
            "-0.13478527358360667\n",
            "0.3546096386917526\n",
            "0.34177957795106206\n",
            "0.10966844560911572\n",
            "0.32151676794710987\n",
            "0.2050376623573918\n",
            "0.007009560314412689\n",
            "0.09439600807868054\n",
            "-0.05161731699520901\n"
          ],
          "name": "stdout"
        }
      ]
    },
    {
      "cell_type": "code",
      "metadata": {
        "id": "BUlJEYJtt5z2",
        "colab_type": "code",
        "outputId": "72607be1-d38d-4f14-b96b-b91475bba5ed",
        "colab": {
          "base_uri": "https://localhost:8080/",
          "height": 51
        }
      },
      "source": [
        "# # print(p2.shape)\n",
        "# # print(p3.shape)\n",
        "# p2_test=pca2.transform(x_test)\n",
        "# p3_test=pca3.transform(x_test_g)"
      ],
      "execution_count": 0,
      "outputs": [
        {
          "output_type": "stream",
          "text": [
            "(500, 100)\n",
            "(500, 100)\n"
          ],
          "name": "stdout"
        }
      ]
    },
    {
      "cell_type": "code",
      "metadata": {
        "id": "gQGiPC3wueCV",
        "colab_type": "code",
        "outputId": "f2e83028-f7b9-4392-ed64-57f441e7a4eb",
        "colab": {
          "base_uri": "https://localhost:8080/",
          "height": 119
        }
      },
      "source": [
        "from sklearn.svm import SVC\n",
        "from sklearn.decomposition import PCA\n",
        "from sklearn.preprocessing import StandardScaler\n",
        "from sklearn.model_selection import GridSearchCV, StratifiedKFold\n",
        "\n",
        "kfold = StratifiedKFold(n_splits=10)\n",
        "x_train_s = x_train\n",
        "\n",
        "pca2 = PCA(100)\n",
        "pca2.fit(x_train_s)\n",
        "p2=pca2.transform(x_train_s)\n",
        "p2_test=pca2.transform(x_test)\n",
        "\n",
        "svclassifier = SVC()\n",
        "svc_param_grid = {'kernel': ['linear'],\n",
        "                    'C': [0.01, 0.1, 1, 10, 50, 100, 200, 300, 1000]}\n",
        "\n",
        "gsSVM_data = GridSearchCV(svclassifier,param_grid = svc_param_grid, cv=kfold, scoring=\"accuracy\", n_jobs= -1, verbose = 1)\n",
        "gsSVM_data.fit(p2, y_train)\n",
        "\n",
        "SVM_best_data = gsSVM_data.best_estimator_\n",
        "print(gsSVM_data.best_score_)\n",
        "# print(m)\n",
        "# print(\"measurement train \",np.sum(SVM_best_g.predict(p3) == y_train)/ns)\n",
        "# print(\"measurement test \",np.sum(SVM_best_g.predict(p3_test) == y_test)/nt)\n",
        "train_data=np.sum(SVM_best_data.predict(p2) == y_train)/ns\n",
        "test_data=np.sum(SVM_best_data.predict(p2_test) == y_test)/nt\n",
        "print(\"data train\",np.sum(SVM_best_data.predict(p2) == y_train)/ns)\n",
        "print(\"data test\",np.sum(SVM_best_data.predict(p2_test) == y_test)/nt)\n",
        "\n",
        "\n",
        "\n",
        "\n"
      ],
      "execution_count": 13,
      "outputs": [
        {
          "output_type": "stream",
          "text": [
            "Fitting 10 folds for each of 9 candidates, totalling 90 fits\n"
          ],
          "name": "stdout"
        },
        {
          "output_type": "stream",
          "text": [
            "[Parallel(n_jobs=-1)]: Using backend LokyBackend with 2 concurrent workers.\n"
          ],
          "name": "stderr"
        },
        {
          "output_type": "stream",
          "text": [
            "0.9039999999999999\n",
            "data train 1.0\n",
            "data test 0.875\n"
          ],
          "name": "stdout"
        },
        {
          "output_type": "stream",
          "text": [
            "[Parallel(n_jobs=-1)]: Done  90 out of  90 | elapsed:    2.1s finished\n"
          ],
          "name": "stderr"
        }
      ]
    },
    {
      "cell_type": "code",
      "metadata": {
        "id": "NqGCrYUEiXcu",
        "colab_type": "code",
        "colab": {
          "base_uri": "https://localhost:8080/",
          "height": 1000
        },
        "outputId": "8a5f22e7-2e1a-402c-db29-84ce00fbefc3"
      },
      "source": [
        "n = 784\n",
        "test_acc_g=[]\n",
        "train_acc_g=[]\n",
        "test_acc_b=[]\n",
        "train_acc_b=[]\n",
        "meas=[]\n",
        "\n",
        "m = 200\n",
        "for m in list(range(800,100,-20)):\n",
        "  A = np.random.randn(m,n)\n",
        "  B=np.random.binomial(1,0.5,(m,n))\n",
        "  B[np.where(B==0)]=-1\n",
        "  # x_train_c = np.matmul(x_train, A.T)/m**0.5\n",
        "  # x_test_c = np.matmul(x_test, A.T)/m**0.5\n",
        "  x_train_g = np.matmul(x_train, A.T)/m**0.5\n",
        "  x_test_g = np.matmul(x_test, A.T)/m**0.5\n",
        "  x_train_b = np.matmul(x_train, B.T)/m**0.5\n",
        "  x_test_b = np.matmul(x_test, B.T)/m**0.5\n",
        "  # x_train_g_s = x_train_g\n",
        "  pca3 = PCA(100)\n",
        "  pca3.fit(x_train_g)\n",
        "  p3=pca3.transform(x_train_g)\n",
        "  p3_test=pca3.transform(x_test_g)\n",
        "  pca4 = PCA(100)\n",
        "  pca4.fit(x_train_b)\n",
        "  p4=pca4.transform(x_train_b)\n",
        "  p4_test=pca4.transform(x_test_b)\n",
        "  print(np.shape(x_train_b))\n",
        "  print(np.shape(x_train_g))\n",
        "  kfold = StratifiedKFold(n_splits=10)\n",
        "\n",
        "  svclassifier = SVC()\n",
        "  svc_param_grid = {'kernel': ['linear'],\n",
        "                    'C': [0.01, 0.1, 1, 10, 50, 100, 200, 300, 1000]}\n",
        "  gsSVM_g = GridSearchCV(svclassifier,param_grid = svc_param_grid, cv=kfold, scoring=\"accuracy\", n_jobs= -1, verbose = 1)\n",
        "  gsSVM_g.fit(p3, y_train)\n",
        "\n",
        "  SVM_best_g = gsSVM_g.best_estimator_\n",
        "  print(gsSVM_g.best_score_)\n",
        "\n",
        "  gsSVM_b = GridSearchCV(svclassifier,param_grid = svc_param_grid, cv=kfold, scoring=\"accuracy\", n_jobs= -1, verbose = 1)\n",
        "  gsSVM_b.fit(p4, y_train)\n",
        "\n",
        "  SVM_best_b = gsSVM_b.best_estimator_\n",
        "  print(gsSVM_b.best_score_)\n",
        "  print(m)\n",
        "  train_acc_g.append(np.sum(SVM_best_g.predict(p3) == y_train)/ns)\n",
        "  test_acc_g.append(np.sum(SVM_best_g.predict(p3_test) == y_test)/nt)\n",
        "  train_acc_b.append(np.sum(SVM_best_b.predict(p4) == y_train)/ns)\n",
        "  test_acc_b.append(np.sum(SVM_best_b.predict(p4_test) == y_test)/nt)\n",
        "  meas.append(m)"
      ],
      "execution_count": 14,
      "outputs": [
        {
          "output_type": "stream",
          "text": [
            "(500, 800)\n",
            "(500, 800)\n",
            "Fitting 10 folds for each of 9 candidates, totalling 90 fits\n"
          ],
          "name": "stdout"
        },
        {
          "output_type": "stream",
          "text": [
            "[Parallel(n_jobs=-1)]: Using backend LokyBackend with 2 concurrent workers.\n",
            "[Parallel(n_jobs=-1)]: Done  90 out of  90 | elapsed:    1.5s finished\n",
            "[Parallel(n_jobs=-1)]: Using backend LokyBackend with 2 concurrent workers.\n"
          ],
          "name": "stderr"
        },
        {
          "output_type": "stream",
          "text": [
            "0.8939999999999999\n",
            "Fitting 10 folds for each of 9 candidates, totalling 90 fits\n"
          ],
          "name": "stdout"
        },
        {
          "output_type": "stream",
          "text": [
            "[Parallel(n_jobs=-1)]: Done  90 out of  90 | elapsed:    1.1s finished\n"
          ],
          "name": "stderr"
        },
        {
          "output_type": "stream",
          "text": [
            "0.884\n",
            "800\n",
            "(500, 780)\n",
            "(500, 780)\n",
            "Fitting 10 folds for each of 9 candidates, totalling 90 fits\n"
          ],
          "name": "stdout"
        },
        {
          "output_type": "stream",
          "text": [
            "[Parallel(n_jobs=-1)]: Using backend LokyBackend with 2 concurrent workers.\n",
            "[Parallel(n_jobs=-1)]: Done  90 out of  90 | elapsed:    1.3s finished\n",
            "[Parallel(n_jobs=-1)]: Using backend LokyBackend with 2 concurrent workers.\n"
          ],
          "name": "stderr"
        },
        {
          "output_type": "stream",
          "text": [
            "0.884\n",
            "Fitting 10 folds for each of 9 candidates, totalling 90 fits\n"
          ],
          "name": "stdout"
        },
        {
          "output_type": "stream",
          "text": [
            "[Parallel(n_jobs=-1)]: Done  90 out of  90 | elapsed:    1.1s finished\n"
          ],
          "name": "stderr"
        },
        {
          "output_type": "stream",
          "text": [
            "0.882\n",
            "780\n",
            "(500, 760)\n",
            "(500, 760)\n",
            "Fitting 10 folds for each of 9 candidates, totalling 90 fits\n"
          ],
          "name": "stdout"
        },
        {
          "output_type": "stream",
          "text": [
            "[Parallel(n_jobs=-1)]: Using backend LokyBackend with 2 concurrent workers.\n",
            "[Parallel(n_jobs=-1)]: Done  90 out of  90 | elapsed:    1.1s finished\n",
            "[Parallel(n_jobs=-1)]: Using backend LokyBackend with 2 concurrent workers.\n"
          ],
          "name": "stderr"
        },
        {
          "output_type": "stream",
          "text": [
            "0.898\n",
            "Fitting 10 folds for each of 9 candidates, totalling 90 fits\n"
          ],
          "name": "stdout"
        },
        {
          "output_type": "stream",
          "text": [
            "[Parallel(n_jobs=-1)]: Done  90 out of  90 | elapsed:    1.3s finished\n"
          ],
          "name": "stderr"
        },
        {
          "output_type": "stream",
          "text": [
            "0.8880000000000001\n",
            "760\n",
            "(500, 740)\n",
            "(500, 740)\n",
            "Fitting 10 folds for each of 9 candidates, totalling 90 fits\n"
          ],
          "name": "stdout"
        },
        {
          "output_type": "stream",
          "text": [
            "[Parallel(n_jobs=-1)]: Using backend LokyBackend with 2 concurrent workers.\n",
            "[Parallel(n_jobs=-1)]: Done  90 out of  90 | elapsed:    1.2s finished\n",
            "[Parallel(n_jobs=-1)]: Using backend LokyBackend with 2 concurrent workers.\n"
          ],
          "name": "stderr"
        },
        {
          "output_type": "stream",
          "text": [
            "0.8800000000000001\n",
            "Fitting 10 folds for each of 9 candidates, totalling 90 fits\n"
          ],
          "name": "stdout"
        },
        {
          "output_type": "stream",
          "text": [
            "[Parallel(n_jobs=-1)]: Done  90 out of  90 | elapsed:    1.2s finished\n"
          ],
          "name": "stderr"
        },
        {
          "output_type": "stream",
          "text": [
            "0.884\n",
            "740\n",
            "(500, 720)\n",
            "(500, 720)\n",
            "Fitting 10 folds for each of 9 candidates, totalling 90 fits\n"
          ],
          "name": "stdout"
        },
        {
          "output_type": "stream",
          "text": [
            "[Parallel(n_jobs=-1)]: Using backend LokyBackend with 2 concurrent workers.\n",
            "[Parallel(n_jobs=-1)]: Done  90 out of  90 | elapsed:    1.1s finished\n",
            "[Parallel(n_jobs=-1)]: Using backend LokyBackend with 2 concurrent workers.\n"
          ],
          "name": "stderr"
        },
        {
          "output_type": "stream",
          "text": [
            "0.9120000000000001\n",
            "Fitting 10 folds for each of 9 candidates, totalling 90 fits\n"
          ],
          "name": "stdout"
        },
        {
          "output_type": "stream",
          "text": [
            "[Parallel(n_jobs=-1)]: Done  90 out of  90 | elapsed:    1.2s finished\n"
          ],
          "name": "stderr"
        },
        {
          "output_type": "stream",
          "text": [
            "0.9039999999999999\n",
            "720\n",
            "(500, 700)\n",
            "(500, 700)\n",
            "Fitting 10 folds for each of 9 candidates, totalling 90 fits\n"
          ],
          "name": "stdout"
        },
        {
          "output_type": "stream",
          "text": [
            "[Parallel(n_jobs=-1)]: Using backend LokyBackend with 2 concurrent workers.\n",
            "[Parallel(n_jobs=-1)]: Done  90 out of  90 | elapsed:    1.3s finished\n",
            "[Parallel(n_jobs=-1)]: Using backend LokyBackend with 2 concurrent workers.\n"
          ],
          "name": "stderr"
        },
        {
          "output_type": "stream",
          "text": [
            "0.892\n",
            "Fitting 10 folds for each of 9 candidates, totalling 90 fits\n"
          ],
          "name": "stdout"
        },
        {
          "output_type": "stream",
          "text": [
            "[Parallel(n_jobs=-1)]: Done  90 out of  90 | elapsed:    1.2s finished\n"
          ],
          "name": "stderr"
        },
        {
          "output_type": "stream",
          "text": [
            "0.8800000000000001\n",
            "700\n",
            "(500, 680)\n",
            "(500, 680)\n",
            "Fitting 10 folds for each of 9 candidates, totalling 90 fits\n"
          ],
          "name": "stdout"
        },
        {
          "output_type": "stream",
          "text": [
            "[Parallel(n_jobs=-1)]: Using backend LokyBackend with 2 concurrent workers.\n",
            "[Parallel(n_jobs=-1)]: Done  90 out of  90 | elapsed:    1.3s finished\n",
            "[Parallel(n_jobs=-1)]: Using backend LokyBackend with 2 concurrent workers.\n"
          ],
          "name": "stderr"
        },
        {
          "output_type": "stream",
          "text": [
            "0.8939999999999999\n",
            "Fitting 10 folds for each of 9 candidates, totalling 90 fits\n"
          ],
          "name": "stdout"
        },
        {
          "output_type": "stream",
          "text": [
            "[Parallel(n_jobs=-1)]: Done  90 out of  90 | elapsed:    1.1s finished\n"
          ],
          "name": "stderr"
        },
        {
          "output_type": "stream",
          "text": [
            "0.892\n",
            "680\n",
            "(500, 660)\n",
            "(500, 660)\n",
            "Fitting 10 folds for each of 9 candidates, totalling 90 fits\n"
          ],
          "name": "stdout"
        },
        {
          "output_type": "stream",
          "text": [
            "[Parallel(n_jobs=-1)]: Using backend LokyBackend with 2 concurrent workers.\n",
            "[Parallel(n_jobs=-1)]: Done  90 out of  90 | elapsed:    1.1s finished\n",
            "[Parallel(n_jobs=-1)]: Using backend LokyBackend with 2 concurrent workers.\n"
          ],
          "name": "stderr"
        },
        {
          "output_type": "stream",
          "text": [
            "0.8999999999999998\n",
            "Fitting 10 folds for each of 9 candidates, totalling 90 fits\n"
          ],
          "name": "stdout"
        },
        {
          "output_type": "stream",
          "text": [
            "[Parallel(n_jobs=-1)]: Done  90 out of  90 | elapsed:    1.2s finished\n"
          ],
          "name": "stderr"
        },
        {
          "output_type": "stream",
          "text": [
            "0.892\n",
            "660\n",
            "(500, 640)\n",
            "(500, 640)\n",
            "Fitting 10 folds for each of 9 candidates, totalling 90 fits\n"
          ],
          "name": "stdout"
        },
        {
          "output_type": "stream",
          "text": [
            "[Parallel(n_jobs=-1)]: Using backend LokyBackend with 2 concurrent workers.\n",
            "[Parallel(n_jobs=-1)]: Done  90 out of  90 | elapsed:    1.3s finished\n",
            "[Parallel(n_jobs=-1)]: Using backend LokyBackend with 2 concurrent workers.\n"
          ],
          "name": "stderr"
        },
        {
          "output_type": "stream",
          "text": [
            "0.9120000000000001\n",
            "Fitting 10 folds for each of 9 candidates, totalling 90 fits\n"
          ],
          "name": "stdout"
        },
        {
          "output_type": "stream",
          "text": [
            "[Parallel(n_jobs=-1)]: Done  90 out of  90 | elapsed:    1.2s finished\n"
          ],
          "name": "stderr"
        },
        {
          "output_type": "stream",
          "text": [
            "0.8960000000000001\n",
            "640\n",
            "(500, 620)\n",
            "(500, 620)\n",
            "Fitting 10 folds for each of 9 candidates, totalling 90 fits\n"
          ],
          "name": "stdout"
        },
        {
          "output_type": "stream",
          "text": [
            "[Parallel(n_jobs=-1)]: Using backend LokyBackend with 2 concurrent workers.\n",
            "[Parallel(n_jobs=-1)]: Done  90 out of  90 | elapsed:    1.3s finished\n",
            "[Parallel(n_jobs=-1)]: Using backend LokyBackend with 2 concurrent workers.\n"
          ],
          "name": "stderr"
        },
        {
          "output_type": "stream",
          "text": [
            "0.8780000000000001\n",
            "Fitting 10 folds for each of 9 candidates, totalling 90 fits\n"
          ],
          "name": "stdout"
        },
        {
          "output_type": "stream",
          "text": [
            "[Parallel(n_jobs=-1)]: Done  90 out of  90 | elapsed:    1.2s finished\n"
          ],
          "name": "stderr"
        },
        {
          "output_type": "stream",
          "text": [
            "0.882\n",
            "620\n",
            "(500, 600)\n",
            "(500, 600)\n",
            "Fitting 10 folds for each of 9 candidates, totalling 90 fits\n"
          ],
          "name": "stdout"
        },
        {
          "output_type": "stream",
          "text": [
            "[Parallel(n_jobs=-1)]: Using backend LokyBackend with 2 concurrent workers.\n",
            "[Parallel(n_jobs=-1)]: Done  90 out of  90 | elapsed:    1.3s finished\n",
            "[Parallel(n_jobs=-1)]: Using backend LokyBackend with 2 concurrent workers.\n"
          ],
          "name": "stderr"
        },
        {
          "output_type": "stream",
          "text": [
            "0.8800000000000001\n",
            "Fitting 10 folds for each of 9 candidates, totalling 90 fits\n"
          ],
          "name": "stdout"
        },
        {
          "output_type": "stream",
          "text": [
            "[Parallel(n_jobs=-1)]: Done  90 out of  90 | elapsed:    1.2s finished\n"
          ],
          "name": "stderr"
        },
        {
          "output_type": "stream",
          "text": [
            "0.8699999999999999\n",
            "600\n",
            "(500, 580)\n",
            "(500, 580)\n",
            "Fitting 10 folds for each of 9 candidates, totalling 90 fits\n"
          ],
          "name": "stdout"
        },
        {
          "output_type": "stream",
          "text": [
            "[Parallel(n_jobs=-1)]: Using backend LokyBackend with 2 concurrent workers.\n",
            "[Parallel(n_jobs=-1)]: Done  90 out of  90 | elapsed:    1.0s finished\n",
            "[Parallel(n_jobs=-1)]: Using backend LokyBackend with 2 concurrent workers.\n"
          ],
          "name": "stderr"
        },
        {
          "output_type": "stream",
          "text": [
            "0.9039999999999999\n",
            "Fitting 10 folds for each of 9 candidates, totalling 90 fits\n"
          ],
          "name": "stdout"
        },
        {
          "output_type": "stream",
          "text": [
            "[Parallel(n_jobs=-1)]: Done  90 out of  90 | elapsed:    1.2s finished\n"
          ],
          "name": "stderr"
        },
        {
          "output_type": "stream",
          "text": [
            "0.8779999999999999\n",
            "580\n",
            "(500, 560)\n",
            "(500, 560)\n",
            "Fitting 10 folds for each of 9 candidates, totalling 90 fits\n"
          ],
          "name": "stdout"
        },
        {
          "output_type": "stream",
          "text": [
            "[Parallel(n_jobs=-1)]: Using backend LokyBackend with 2 concurrent workers.\n",
            "[Parallel(n_jobs=-1)]: Done  90 out of  90 | elapsed:    1.1s finished\n",
            "[Parallel(n_jobs=-1)]: Using backend LokyBackend with 2 concurrent workers.\n"
          ],
          "name": "stderr"
        },
        {
          "output_type": "stream",
          "text": [
            "0.9\n",
            "Fitting 10 folds for each of 9 candidates, totalling 90 fits\n"
          ],
          "name": "stdout"
        },
        {
          "output_type": "stream",
          "text": [
            "[Parallel(n_jobs=-1)]: Done  90 out of  90 | elapsed:    1.1s finished\n"
          ],
          "name": "stderr"
        },
        {
          "output_type": "stream",
          "text": [
            "0.9\n",
            "560\n",
            "(500, 540)\n",
            "(500, 540)\n",
            "Fitting 10 folds for each of 9 candidates, totalling 90 fits\n"
          ],
          "name": "stdout"
        },
        {
          "output_type": "stream",
          "text": [
            "[Parallel(n_jobs=-1)]: Using backend LokyBackend with 2 concurrent workers.\n",
            "[Parallel(n_jobs=-1)]: Done  90 out of  90 | elapsed:    1.2s finished\n",
            "[Parallel(n_jobs=-1)]: Using backend LokyBackend with 2 concurrent workers.\n"
          ],
          "name": "stderr"
        },
        {
          "output_type": "stream",
          "text": [
            "0.89\n",
            "Fitting 10 folds for each of 9 candidates, totalling 90 fits\n"
          ],
          "name": "stdout"
        },
        {
          "output_type": "stream",
          "text": [
            "[Parallel(n_jobs=-1)]: Done  90 out of  90 | elapsed:    1.2s finished\n"
          ],
          "name": "stderr"
        },
        {
          "output_type": "stream",
          "text": [
            "0.89\n",
            "540\n",
            "(500, 520)\n",
            "(500, 520)\n",
            "Fitting 10 folds for each of 9 candidates, totalling 90 fits\n"
          ],
          "name": "stdout"
        },
        {
          "output_type": "stream",
          "text": [
            "[Parallel(n_jobs=-1)]: Using backend LokyBackend with 2 concurrent workers.\n",
            "[Parallel(n_jobs=-1)]: Done  90 out of  90 | elapsed:    1.0s finished\n",
            "[Parallel(n_jobs=-1)]: Using backend LokyBackend with 2 concurrent workers.\n"
          ],
          "name": "stderr"
        },
        {
          "output_type": "stream",
          "text": [
            "0.8959999999999999\n",
            "Fitting 10 folds for each of 9 candidates, totalling 90 fits\n"
          ],
          "name": "stdout"
        },
        {
          "output_type": "stream",
          "text": [
            "[Parallel(n_jobs=-1)]: Done  90 out of  90 | elapsed:    1.1s finished\n"
          ],
          "name": "stderr"
        },
        {
          "output_type": "stream",
          "text": [
            "0.8939999999999999\n",
            "520\n",
            "(500, 500)\n",
            "(500, 500)\n",
            "Fitting 10 folds for each of 9 candidates, totalling 90 fits\n"
          ],
          "name": "stdout"
        },
        {
          "output_type": "stream",
          "text": [
            "[Parallel(n_jobs=-1)]: Using backend LokyBackend with 2 concurrent workers.\n",
            "[Parallel(n_jobs=-1)]: Done  90 out of  90 | elapsed:    1.4s finished\n",
            "[Parallel(n_jobs=-1)]: Using backend LokyBackend with 2 concurrent workers.\n"
          ],
          "name": "stderr"
        },
        {
          "output_type": "stream",
          "text": [
            "0.8720000000000001\n",
            "Fitting 10 folds for each of 9 candidates, totalling 90 fits\n"
          ],
          "name": "stdout"
        },
        {
          "output_type": "stream",
          "text": [
            "[Parallel(n_jobs=-1)]: Done  90 out of  90 | elapsed:    1.2s finished\n"
          ],
          "name": "stderr"
        },
        {
          "output_type": "stream",
          "text": [
            "0.898\n",
            "500\n",
            "(500, 480)\n",
            "(500, 480)\n",
            "Fitting 10 folds for each of 9 candidates, totalling 90 fits\n"
          ],
          "name": "stdout"
        },
        {
          "output_type": "stream",
          "text": [
            "[Parallel(n_jobs=-1)]: Using backend LokyBackend with 2 concurrent workers.\n",
            "[Parallel(n_jobs=-1)]: Done  90 out of  90 | elapsed:    1.2s finished\n",
            "[Parallel(n_jobs=-1)]: Using backend LokyBackend with 2 concurrent workers.\n"
          ],
          "name": "stderr"
        },
        {
          "output_type": "stream",
          "text": [
            "0.884\n",
            "Fitting 10 folds for each of 9 candidates, totalling 90 fits\n"
          ],
          "name": "stdout"
        },
        {
          "output_type": "stream",
          "text": [
            "[Parallel(n_jobs=-1)]: Done  90 out of  90 | elapsed:    1.3s finished\n"
          ],
          "name": "stderr"
        },
        {
          "output_type": "stream",
          "text": [
            "0.882\n",
            "480\n",
            "(500, 460)\n",
            "(500, 460)\n",
            "Fitting 10 folds for each of 9 candidates, totalling 90 fits\n"
          ],
          "name": "stdout"
        },
        {
          "output_type": "stream",
          "text": [
            "[Parallel(n_jobs=-1)]: Using backend LokyBackend with 2 concurrent workers.\n",
            "[Parallel(n_jobs=-1)]: Done  90 out of  90 | elapsed:    1.5s finished\n",
            "[Parallel(n_jobs=-1)]: Using backend LokyBackend with 2 concurrent workers.\n"
          ],
          "name": "stderr"
        },
        {
          "output_type": "stream",
          "text": [
            "0.868\n",
            "Fitting 10 folds for each of 9 candidates, totalling 90 fits\n"
          ],
          "name": "stdout"
        },
        {
          "output_type": "stream",
          "text": [
            "[Parallel(n_jobs=-1)]: Done  90 out of  90 | elapsed:    1.1s finished\n"
          ],
          "name": "stderr"
        },
        {
          "output_type": "stream",
          "text": [
            "0.8879999999999999\n",
            "460\n",
            "(500, 440)\n",
            "(500, 440)\n",
            "Fitting 10 folds for each of 9 candidates, totalling 90 fits\n"
          ],
          "name": "stdout"
        },
        {
          "output_type": "stream",
          "text": [
            "[Parallel(n_jobs=-1)]: Using backend LokyBackend with 2 concurrent workers.\n",
            "[Parallel(n_jobs=-1)]: Done  90 out of  90 | elapsed:    1.4s finished\n",
            "[Parallel(n_jobs=-1)]: Using backend LokyBackend with 2 concurrent workers.\n"
          ],
          "name": "stderr"
        },
        {
          "output_type": "stream",
          "text": [
            "0.9\n",
            "Fitting 10 folds for each of 9 candidates, totalling 90 fits\n"
          ],
          "name": "stdout"
        },
        {
          "output_type": "stream",
          "text": [
            "[Parallel(n_jobs=-1)]: Done  90 out of  90 | elapsed:    1.2s finished\n"
          ],
          "name": "stderr"
        },
        {
          "output_type": "stream",
          "text": [
            "0.8780000000000001\n",
            "440\n",
            "(500, 420)\n",
            "(500, 420)\n",
            "Fitting 10 folds for each of 9 candidates, totalling 90 fits\n"
          ],
          "name": "stdout"
        },
        {
          "output_type": "stream",
          "text": [
            "[Parallel(n_jobs=-1)]: Using backend LokyBackend with 2 concurrent workers.\n",
            "[Parallel(n_jobs=-1)]: Done  90 out of  90 | elapsed:    1.2s finished\n",
            "[Parallel(n_jobs=-1)]: Using backend LokyBackend with 2 concurrent workers.\n"
          ],
          "name": "stderr"
        },
        {
          "output_type": "stream",
          "text": [
            "0.8880000000000001\n",
            "Fitting 10 folds for each of 9 candidates, totalling 90 fits\n"
          ],
          "name": "stdout"
        },
        {
          "output_type": "stream",
          "text": [
            "[Parallel(n_jobs=-1)]: Done  90 out of  90 | elapsed:    1.3s finished\n"
          ],
          "name": "stderr"
        },
        {
          "output_type": "stream",
          "text": [
            "0.874\n",
            "420\n",
            "(500, 400)\n",
            "(500, 400)\n",
            "Fitting 10 folds for each of 9 candidates, totalling 90 fits\n"
          ],
          "name": "stdout"
        },
        {
          "output_type": "stream",
          "text": [
            "[Parallel(n_jobs=-1)]: Using backend LokyBackend with 2 concurrent workers.\n",
            "[Parallel(n_jobs=-1)]: Done  90 out of  90 | elapsed:    1.3s finished\n",
            "[Parallel(n_jobs=-1)]: Using backend LokyBackend with 2 concurrent workers.\n"
          ],
          "name": "stderr"
        },
        {
          "output_type": "stream",
          "text": [
            "0.884\n",
            "Fitting 10 folds for each of 9 candidates, totalling 90 fits\n"
          ],
          "name": "stdout"
        },
        {
          "output_type": "stream",
          "text": [
            "[Parallel(n_jobs=-1)]: Done  90 out of  90 | elapsed:    1.4s finished\n"
          ],
          "name": "stderr"
        },
        {
          "output_type": "stream",
          "text": [
            "0.8959999999999999\n",
            "400\n",
            "(500, 380)\n",
            "(500, 380)\n",
            "Fitting 10 folds for each of 9 candidates, totalling 90 fits\n"
          ],
          "name": "stdout"
        },
        {
          "output_type": "stream",
          "text": [
            "[Parallel(n_jobs=-1)]: Using backend LokyBackend with 2 concurrent workers.\n",
            "[Parallel(n_jobs=-1)]: Done  90 out of  90 | elapsed:    1.4s finished\n",
            "[Parallel(n_jobs=-1)]: Using backend LokyBackend with 2 concurrent workers.\n"
          ],
          "name": "stderr"
        },
        {
          "output_type": "stream",
          "text": [
            "0.8800000000000001\n",
            "Fitting 10 folds for each of 9 candidates, totalling 90 fits\n"
          ],
          "name": "stdout"
        },
        {
          "output_type": "stream",
          "text": [
            "[Parallel(n_jobs=-1)]: Done  90 out of  90 | elapsed:    1.4s finished\n"
          ],
          "name": "stderr"
        },
        {
          "output_type": "stream",
          "text": [
            "0.8779999999999999\n",
            "380\n",
            "(500, 360)\n",
            "(500, 360)\n",
            "Fitting 10 folds for each of 9 candidates, totalling 90 fits\n"
          ],
          "name": "stdout"
        },
        {
          "output_type": "stream",
          "text": [
            "[Parallel(n_jobs=-1)]: Using backend LokyBackend with 2 concurrent workers.\n",
            "[Parallel(n_jobs=-1)]: Done  90 out of  90 | elapsed:    1.2s finished\n",
            "[Parallel(n_jobs=-1)]: Using backend LokyBackend with 2 concurrent workers.\n"
          ],
          "name": "stderr"
        },
        {
          "output_type": "stream",
          "text": [
            "0.8859999999999999\n",
            "Fitting 10 folds for each of 9 candidates, totalling 90 fits\n"
          ],
          "name": "stdout"
        },
        {
          "output_type": "stream",
          "text": [
            "[Parallel(n_jobs=-1)]: Done  90 out of  90 | elapsed:    1.2s finished\n"
          ],
          "name": "stderr"
        },
        {
          "output_type": "stream",
          "text": [
            "0.89\n",
            "360\n",
            "(500, 340)\n",
            "(500, 340)\n",
            "Fitting 10 folds for each of 9 candidates, totalling 90 fits\n"
          ],
          "name": "stdout"
        },
        {
          "output_type": "stream",
          "text": [
            "[Parallel(n_jobs=-1)]: Using backend LokyBackend with 2 concurrent workers.\n",
            "[Parallel(n_jobs=-1)]: Done  90 out of  90 | elapsed:    1.2s finished\n",
            "[Parallel(n_jobs=-1)]: Using backend LokyBackend with 2 concurrent workers.\n"
          ],
          "name": "stderr"
        },
        {
          "output_type": "stream",
          "text": [
            "0.8819999999999999\n",
            "Fitting 10 folds for each of 9 candidates, totalling 90 fits\n"
          ],
          "name": "stdout"
        },
        {
          "output_type": "stream",
          "text": [
            "[Parallel(n_jobs=-1)]: Done  90 out of  90 | elapsed:    1.4s finished\n"
          ],
          "name": "stderr"
        },
        {
          "output_type": "stream",
          "text": [
            "0.85\n",
            "340\n",
            "(500, 320)\n",
            "(500, 320)\n",
            "Fitting 10 folds for each of 9 candidates, totalling 90 fits\n"
          ],
          "name": "stdout"
        },
        {
          "output_type": "stream",
          "text": [
            "[Parallel(n_jobs=-1)]: Using backend LokyBackend with 2 concurrent workers.\n",
            "[Parallel(n_jobs=-1)]: Done  90 out of  90 | elapsed:    1.4s finished\n",
            "[Parallel(n_jobs=-1)]: Using backend LokyBackend with 2 concurrent workers.\n"
          ],
          "name": "stderr"
        },
        {
          "output_type": "stream",
          "text": [
            "0.876\n",
            "Fitting 10 folds for each of 9 candidates, totalling 90 fits\n"
          ],
          "name": "stdout"
        },
        {
          "output_type": "stream",
          "text": [
            "[Parallel(n_jobs=-1)]: Done  90 out of  90 | elapsed:    1.1s finished\n"
          ],
          "name": "stderr"
        },
        {
          "output_type": "stream",
          "text": [
            "0.9\n",
            "320\n",
            "(500, 300)\n",
            "(500, 300)\n",
            "Fitting 10 folds for each of 9 candidates, totalling 90 fits\n"
          ],
          "name": "stdout"
        },
        {
          "output_type": "stream",
          "text": [
            "[Parallel(n_jobs=-1)]: Using backend LokyBackend with 2 concurrent workers.\n",
            "[Parallel(n_jobs=-1)]: Done  90 out of  90 | elapsed:    1.5s finished\n",
            "[Parallel(n_jobs=-1)]: Using backend LokyBackend with 2 concurrent workers.\n"
          ],
          "name": "stderr"
        },
        {
          "output_type": "stream",
          "text": [
            "0.868\n",
            "Fitting 10 folds for each of 9 candidates, totalling 90 fits\n"
          ],
          "name": "stdout"
        },
        {
          "output_type": "stream",
          "text": [
            "[Parallel(n_jobs=-1)]: Done  90 out of  90 | elapsed:    1.3s finished\n"
          ],
          "name": "stderr"
        },
        {
          "output_type": "stream",
          "text": [
            "0.8780000000000001\n",
            "300\n",
            "(500, 280)\n",
            "(500, 280)\n",
            "Fitting 10 folds for each of 9 candidates, totalling 90 fits\n"
          ],
          "name": "stdout"
        },
        {
          "output_type": "stream",
          "text": [
            "[Parallel(n_jobs=-1)]: Using backend LokyBackend with 2 concurrent workers.\n",
            "[Parallel(n_jobs=-1)]: Done  90 out of  90 | elapsed:    1.0s finished\n",
            "[Parallel(n_jobs=-1)]: Using backend LokyBackend with 2 concurrent workers.\n"
          ],
          "name": "stderr"
        },
        {
          "output_type": "stream",
          "text": [
            "0.9019999999999999\n",
            "Fitting 10 folds for each of 9 candidates, totalling 90 fits\n"
          ],
          "name": "stdout"
        },
        {
          "output_type": "stream",
          "text": [
            "[Parallel(n_jobs=-1)]: Done  90 out of  90 | elapsed:    1.4s finished\n"
          ],
          "name": "stderr"
        },
        {
          "output_type": "stream",
          "text": [
            "0.882\n",
            "280\n",
            "(500, 260)\n",
            "(500, 260)\n",
            "Fitting 10 folds for each of 9 candidates, totalling 90 fits\n"
          ],
          "name": "stdout"
        },
        {
          "output_type": "stream",
          "text": [
            "[Parallel(n_jobs=-1)]: Using backend LokyBackend with 2 concurrent workers.\n",
            "[Parallel(n_jobs=-1)]: Done  90 out of  90 | elapsed:    1.3s finished\n",
            "[Parallel(n_jobs=-1)]: Using backend LokyBackend with 2 concurrent workers.\n"
          ],
          "name": "stderr"
        },
        {
          "output_type": "stream",
          "text": [
            "0.8540000000000001\n",
            "Fitting 10 folds for each of 9 candidates, totalling 90 fits\n"
          ],
          "name": "stdout"
        },
        {
          "output_type": "stream",
          "text": [
            "[Parallel(n_jobs=-1)]: Done  90 out of  90 | elapsed:    1.1s finished\n"
          ],
          "name": "stderr"
        },
        {
          "output_type": "stream",
          "text": [
            "0.8960000000000001\n",
            "260\n",
            "(500, 240)\n",
            "(500, 240)\n",
            "Fitting 10 folds for each of 9 candidates, totalling 90 fits\n"
          ],
          "name": "stdout"
        },
        {
          "output_type": "stream",
          "text": [
            "[Parallel(n_jobs=-1)]: Using backend LokyBackend with 2 concurrent workers.\n",
            "[Parallel(n_jobs=-1)]: Done  90 out of  90 | elapsed:    1.1s finished\n",
            "[Parallel(n_jobs=-1)]: Using backend LokyBackend with 2 concurrent workers.\n"
          ],
          "name": "stderr"
        },
        {
          "output_type": "stream",
          "text": [
            "0.9\n",
            "Fitting 10 folds for each of 9 candidates, totalling 90 fits\n"
          ],
          "name": "stdout"
        },
        {
          "output_type": "stream",
          "text": [
            "[Parallel(n_jobs=-1)]: Done  90 out of  90 | elapsed:    1.1s finished\n"
          ],
          "name": "stderr"
        },
        {
          "output_type": "stream",
          "text": [
            "0.876\n",
            "240\n",
            "(500, 220)\n",
            "(500, 220)\n",
            "Fitting 10 folds for each of 9 candidates, totalling 90 fits\n"
          ],
          "name": "stdout"
        },
        {
          "output_type": "stream",
          "text": [
            "[Parallel(n_jobs=-1)]: Using backend LokyBackend with 2 concurrent workers.\n",
            "[Parallel(n_jobs=-1)]: Done  90 out of  90 | elapsed:    1.3s finished\n",
            "[Parallel(n_jobs=-1)]: Using backend LokyBackend with 2 concurrent workers.\n"
          ],
          "name": "stderr"
        },
        {
          "output_type": "stream",
          "text": [
            "0.8860000000000001\n",
            "Fitting 10 folds for each of 9 candidates, totalling 90 fits\n"
          ],
          "name": "stdout"
        },
        {
          "output_type": "stream",
          "text": [
            "[Parallel(n_jobs=-1)]: Done  90 out of  90 | elapsed:    1.7s finished\n"
          ],
          "name": "stderr"
        },
        {
          "output_type": "stream",
          "text": [
            "0.8640000000000001\n",
            "220\n",
            "(500, 200)\n",
            "(500, 200)\n",
            "Fitting 10 folds for each of 9 candidates, totalling 90 fits\n"
          ],
          "name": "stdout"
        },
        {
          "output_type": "stream",
          "text": [
            "[Parallel(n_jobs=-1)]: Using backend LokyBackend with 2 concurrent workers.\n",
            "[Parallel(n_jobs=-1)]: Done  90 out of  90 | elapsed:    1.5s finished\n",
            "[Parallel(n_jobs=-1)]: Using backend LokyBackend with 2 concurrent workers.\n"
          ],
          "name": "stderr"
        },
        {
          "output_type": "stream",
          "text": [
            "0.882\n",
            "Fitting 10 folds for each of 9 candidates, totalling 90 fits\n"
          ],
          "name": "stdout"
        },
        {
          "output_type": "stream",
          "text": [
            "[Parallel(n_jobs=-1)]: Done  90 out of  90 | elapsed:    1.6s finished\n",
            "[Parallel(n_jobs=-1)]: Using backend LokyBackend with 2 concurrent workers.\n"
          ],
          "name": "stderr"
        },
        {
          "output_type": "stream",
          "text": [
            "0.8700000000000001\n",
            "200\n",
            "(500, 180)\n",
            "(500, 180)\n",
            "Fitting 10 folds for each of 9 candidates, totalling 90 fits\n"
          ],
          "name": "stdout"
        },
        {
          "output_type": "stream",
          "text": [
            "[Parallel(n_jobs=-1)]: Done  90 out of  90 | elapsed:    1.4s finished\n",
            "[Parallel(n_jobs=-1)]: Using backend LokyBackend with 2 concurrent workers.\n"
          ],
          "name": "stderr"
        },
        {
          "output_type": "stream",
          "text": [
            "0.8800000000000001\n",
            "Fitting 10 folds for each of 9 candidates, totalling 90 fits\n"
          ],
          "name": "stdout"
        },
        {
          "output_type": "stream",
          "text": [
            "[Parallel(n_jobs=-1)]: Done  90 out of  90 | elapsed:    1.3s finished\n",
            "[Parallel(n_jobs=-1)]: Using backend LokyBackend with 2 concurrent workers.\n"
          ],
          "name": "stderr"
        },
        {
          "output_type": "stream",
          "text": [
            "0.8780000000000001\n",
            "180\n",
            "(500, 160)\n",
            "(500, 160)\n",
            "Fitting 10 folds for each of 9 candidates, totalling 90 fits\n"
          ],
          "name": "stdout"
        },
        {
          "output_type": "stream",
          "text": [
            "[Parallel(n_jobs=-1)]: Done  90 out of  90 | elapsed:    1.6s finished\n",
            "[Parallel(n_jobs=-1)]: Using backend LokyBackend with 2 concurrent workers.\n"
          ],
          "name": "stderr"
        },
        {
          "output_type": "stream",
          "text": [
            "0.8919999999999998\n",
            "Fitting 10 folds for each of 9 candidates, totalling 90 fits\n"
          ],
          "name": "stdout"
        },
        {
          "output_type": "stream",
          "text": [
            "[Parallel(n_jobs=-1)]: Done  90 out of  90 | elapsed:    1.3s finished\n",
            "[Parallel(n_jobs=-1)]: Using backend LokyBackend with 2 concurrent workers.\n"
          ],
          "name": "stderr"
        },
        {
          "output_type": "stream",
          "text": [
            "0.882\n",
            "160\n",
            "(500, 140)\n",
            "(500, 140)\n",
            "Fitting 10 folds for each of 9 candidates, totalling 90 fits\n"
          ],
          "name": "stdout"
        },
        {
          "output_type": "stream",
          "text": [
            "[Parallel(n_jobs=-1)]: Done  90 out of  90 | elapsed:    1.7s finished\n",
            "[Parallel(n_jobs=-1)]: Using backend LokyBackend with 2 concurrent workers.\n"
          ],
          "name": "stderr"
        },
        {
          "output_type": "stream",
          "text": [
            "0.8720000000000001\n",
            "Fitting 10 folds for each of 9 candidates, totalling 90 fits\n"
          ],
          "name": "stdout"
        },
        {
          "output_type": "stream",
          "text": [
            "[Parallel(n_jobs=-1)]: Done  90 out of  90 | elapsed:    1.3s finished\n",
            "[Parallel(n_jobs=-1)]: Using backend LokyBackend with 2 concurrent workers.\n"
          ],
          "name": "stderr"
        },
        {
          "output_type": "stream",
          "text": [
            "0.8720000000000001\n",
            "140\n",
            "(500, 120)\n",
            "(500, 120)\n",
            "Fitting 10 folds for each of 9 candidates, totalling 90 fits\n"
          ],
          "name": "stdout"
        },
        {
          "output_type": "stream",
          "text": [
            "[Parallel(n_jobs=-1)]: Done  90 out of  90 | elapsed:    1.7s finished\n",
            "[Parallel(n_jobs=-1)]: Using backend LokyBackend with 2 concurrent workers.\n"
          ],
          "name": "stderr"
        },
        {
          "output_type": "stream",
          "text": [
            "0.8720000000000001\n",
            "Fitting 10 folds for each of 9 candidates, totalling 90 fits\n",
            "0.8720000000000001\n",
            "120\n"
          ],
          "name": "stdout"
        },
        {
          "output_type": "stream",
          "text": [
            "[Parallel(n_jobs=-1)]: Done  90 out of  90 | elapsed:    1.5s finished\n"
          ],
          "name": "stderr"
        }
      ]
    },
    {
      "cell_type": "code",
      "metadata": {
        "id": "SCJrijfphNyw",
        "colab_type": "code",
        "colab": {
          "base_uri": "https://localhost:8080/",
          "height": 677
        },
        "outputId": "29fd9c01-3015-41a7-9851-a53fc0953fd0"
      },
      "source": [
        "print(\"Stats for MNIST dataset SVM using PCA with 100 components\")\n",
        "print(\"No. of Training Samples = \",ns)\n",
        "print(\"No. of Testing Samples = \",nt)\n",
        "print(\"Dimensions of images 28*28\")\n",
        "print(\"Number of features in data domain (originally) = 784\")\n",
        "print(\"Number of PCA components = 100 for both data domain and measurement domain \")\n",
        "print(\"Train accuracy in original domain = \", train_data)\n",
        "print(\"Test accuracy in original domain = \", test_data)\n",
        "from matplotlib import pyplot as plt\n",
        "plt.plot(meas,test_acc_g,label='Gaussian')\n",
        "plt.plot(meas,test_acc_b,label='Bernoulli')\n",
        "plt.xlabel('Measurements')\n",
        "plt.ylabel('Test Accuracy')\n",
        "plt.legend()\n",
        "plt.show()\n",
        "plt.plot(meas,train_acc_g,label='Gaussian')\n",
        "plt.plot(meas,train_acc_b,label='Bernoulli')\n",
        "plt.xlabel('Measurements')\n",
        "plt.ylabel('Train Accuracy')\n",
        "plt.legend()\n",
        "plt.show()"
      ],
      "execution_count": 16,
      "outputs": [
        {
          "output_type": "stream",
          "text": [
            "Stats for MNIST dataset SVM using PCA with 100 components\n",
            "No. of Training Samples =  500\n",
            "No. of Testing Samples =  2000\n",
            "Dimensions of images 28*28\n",
            "Number of features in data domain (originally) = 784\n",
            "Number of PCA components = 100 for both data domain and measurement domain \n",
            "Train accuracy in original domain =  1.0\n",
            "Test accuracy in original domain =  0.875\n"
          ],
          "name": "stdout"
        },
        {
          "output_type": "display_data",
          "data": {
            "image/png": "[encoded data removed]",
            "text/plain": [
              "<Figure size 432x288 with 1 Axes>"
            ]
          },
          "metadata": {
            "tags": [],
            "needs_background": "light"
          }
        },
        {
          "output_type": "display_data",
          "data": {
            "image/png": "[encoded data removed]",
            "text/plain": [
              "<Figure size 432x288 with 1 Axes>"
            ]
          },
          "metadata": {
            "tags": [],
            "needs_background": "light"
          }
        }
      ]
    },
    {
      "cell_type": "code",
      "metadata": {
        "id": "eFK0XANTxsph",
        "colab_type": "code",
        "outputId": "23e54a75-5a53-4b65-8561-4695c184bb46",
        "colab": {
          "base_uri": "https://localhost:8080/",
          "height": 85
        }
      },
      "source": [
        "print(p3.shape)\n",
        "print(p2.shape)\n",
        "print(p2_test.shape)\n",
        "print(p3_test.shape)"
      ],
      "execution_count": 0,
      "outputs": [
        {
          "output_type": "stream",
          "text": [
            "(500, 100)\n",
            "(500, 100)\n",
            "(2000, 100)\n",
            "(2000, 100)\n"
          ],
          "name": "stdout"
        }
      ]
    },
    {
      "cell_type": "code",
      "metadata": {
        "id": "prOLtSXHyfzJ",
        "colab_type": "code",
        "outputId": "9309fb01-26f8-474e-cc22-c515e1c102ca",
        "colab": {
          "base_uri": "https://localhost:8080/",
          "height": 793
        }
      },
      "source": [
        "t2=np.matmul(x_train_s,pca2.components_.T)\n",
        "print(np.matmul(x_train_s,pca2.components_.T))\n",
        "f1=np.matmul(x_train_s,A.T)\n",
        "print(f1.shape)\n",
        "print(A.shape)\n",
        "g=np.matmul(f1,A)\n",
        "print(np.matmul(g,pca2.components_.T)/m)\n",
        "print()\n",
        "# print(pca2.transform(x_train_s))\n",
        "t3=np.matmul(x_train_g_s,pca3.components_.T)\n",
        "print(np.matmul(x_train_g_s,pca3.components_.T))\n",
        "# print(np.matmul(pca2.components_,pca2.components_.T))\n"
      ],
      "execution_count": 0,
      "outputs": [
        {
          "output_type": "stream",
          "text": [
            "[[ 8.21712376e+02  6.91342522e+02 -4.76140271e+02 ... -3.83742661e-01\n",
            "  -7.13217161e+01  3.54302759e+01]\n",
            " [ 7.75941449e+02  5.08872427e+02  9.78564723e+02 ... -5.77089419e+00\n",
            "   1.92034460e+02  1.08546499e+02]\n",
            " [ 3.40002833e+02  4.28904755e+02  6.82711785e+02 ... -6.41568130e+01\n",
            "   6.28130537e+01  1.26371134e+02]\n",
            " ...\n",
            " [ 1.08039338e+03  9.93807221e+02  6.98737599e+02 ... -1.66224897e+02\n",
            "  -5.19771097e+01 -1.06951434e+02]\n",
            " [-3.19411110e+02  1.09417394e+03  5.70295637e+02 ... -4.23395459e+01\n",
            "   2.62856243e+01 -4.67694654e+01]\n",
            " [ 1.45932526e+03  1.05668060e+02  6.03619628e+02 ... -2.50381269e+01\n",
            "  -9.12676138e+00  5.78392625e-01]]\n",
            "(500, 200)\n",
            "(200, 784)\n",
            "[[ 5.08211506e+02  8.97108634e+02 -5.90601305e+02 ...  9.41187099e+00\n",
            "  -2.74944179e+02 -1.17099634e+00]\n",
            " [ 4.27547177e+02  8.23324170e+02  1.02280522e+03 ... -3.79571044e+02\n",
            "   4.60171703e+02  3.18604032e+02]\n",
            " [ 8.78519924e+01  8.62657208e+02  7.14995033e+02 ... -1.90120899e+02\n",
            "   6.17678635e+01  2.89261392e+02]\n",
            " ...\n",
            " [ 1.05764844e+03  1.03117519e+03  9.14455098e+02 ... -5.32157553e+02\n",
            "  -2.73547538e+02 -8.59458320e+00]\n",
            " [-2.12117261e+02  1.39309708e+03  5.83135749e+02 ... -1.68618900e+02\n",
            "  -1.26141419e+02  3.01556738e+01]\n",
            " [ 1.05946699e+03  3.85527814e+02  8.56055389e+02 ... -2.62634997e+02\n",
            "  -2.29848936e+02  1.76606780e+02]]\n",
            "\n",
            "[[ 5.89942081e+02  5.90646881e+02 -9.60642667e+02 ...  3.11110506e+01\n",
            "  -6.27413284e+01  4.30575169e+01]\n",
            " [ 8.21308941e+02  1.04293109e+03  8.29090183e+02 ... -5.74901872e+01\n",
            "  -2.18580262e+00  8.53356283e+01]\n",
            " [ 3.85682123e+02  9.05629964e+02  3.72836170e+02 ...  4.88666582e+01\n",
            "   5.23885543e+01  3.71468502e+01]\n",
            " ...\n",
            " [ 1.49414196e+03  4.28633018e+02  4.72819696e-01 ...  2.64558359e+01\n",
            "  -1.17074355e+02  6.01363778e+01]\n",
            " [ 2.07434376e+02  1.47844478e+03  1.66625607e+02 ...  4.48008186e+00\n",
            "   6.06657723e+01  2.74853348e+01]\n",
            " [ 1.34917899e+03  2.87527814e+01  3.71780124e+02 ... -5.85917799e+01\n",
            "   1.28757348e+02 -4.03650364e+01]]\n"
          ],
          "name": "stdout"
        }
      ]
    },
    {
      "cell_type": "code",
      "metadata": {
        "id": "9ac9TsXE1pvl",
        "colab_type": "code",
        "outputId": "4f2ce43f-9caf-4444-db84-644a17a8323c",
        "colab": {
          "base_uri": "https://localhost:8080/",
          "height": 187
        }
      },
      "source": [
        "for i in list(range(0,10)):\n",
        "  print(np.dot(t2[i,:],t3[i,:]) /(np.linalg.norm(t2[i,:]) * np.linalg.norm(t3[i,:])))"
      ],
      "execution_count": 0,
      "outputs": [
        {
          "output_type": "stream",
          "text": [
            "-0.002070577751351654\n",
            "-0.09326591928620177\n",
            "0.3273862287060057\n",
            "0.5438094024611159\n",
            "0.373085088809044\n",
            "0.40128263326989605\n",
            "0.2795994498725493\n",
            "0.24515628642539605\n",
            "0.30755402444328717\n",
            "0.02385367195660565\n"
          ],
          "name": "stdout"
        }
      ]
    }
  ]
}