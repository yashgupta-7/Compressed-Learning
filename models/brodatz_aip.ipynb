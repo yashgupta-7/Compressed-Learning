{
 "cells": [
  {
   "cell_type": "code",
   "execution_count": 18,
   "metadata": {
    "colab": {},
    "colab_type": "code",
    "id": "L4pvKb8AQisu"
   },
   "outputs": [
    {
     "name": "stdout",
     "output_type": "stream",
     "text": [
      "(112, 128, 128)\n",
      "25\n",
      "(112, 128, 128)\n",
      "(112, 1)\n",
      "(112, 16384)\n",
      "0.7571428571428571\n",
      "0.24285714285714285\n"
     ]
    }
   ],
   "source": [
    "import imageio\n",
    "import glob\n",
    "import numpy as np\n",
    "\n",
    "osize = 640\n",
    "tsize = 128\n",
    "l = int((osize - tsize)/2)\n",
    "h = l + tsize\n",
    "x_train_o = np.zeros((112, tsize, tsize))\n",
    "ind = 0\n",
    "\n",
    "for im_path in glob.glob(\"PNG_Brodatz/*.png\"):\n",
    "    im = np.array(imageio.imread(im_path))\n",
    "#     print(np.shape(im))\n",
    "    im = im[l:h, l:h]\n",
    "#     print(np.shape(im))\n",
    "    x_train_o[ind] = im\n",
    "#     print(im)\n",
    "    ind = ind+1\n",
    "#     print(\"hi\")\n",
    "     \n",
    "    \n",
    "\n",
    "print(np.shape(x_train_o))\n",
    "from PIL import Image\n",
    "img = Image.fromarray(x_train_o[0])\n",
    "# img.show()\n",
    "# print(x_train_o[0])\n",
    "\n",
    "#  !pip install mat4py\n",
    "from mat4py import loadmat\n",
    "\n",
    "data = loadmat('labels.mat')\n",
    "\n",
    "y_train = data['is_horizontal']\n",
    "np.shape(y_train)\n",
    "print(np.sum(y_train))\n",
    "\n",
    "import numpy as np\n",
    "print(np.shape(x_train_o))\n",
    "print(np.shape(y_train))\n",
    "x_train = np.reshape(x_train_o, (112, tsize*tsize))\n",
    "y_train = np.reshape(y_train, 112)\n",
    "print(np.shape(x_train))\n",
    "\n",
    "from sklearn.utils import shuffle\n",
    "x_train, y_train = shuffle(x_train, y_train)\n",
    "\n",
    "ns = 70\n",
    "x_traing = x_train[0:ns][:]\n",
    "y_traing = y_train[0:ns][:]\n",
    "\n",
    "y_traing\n",
    "\n",
    "for x in np.unique(y_traing):\n",
    "  print(np.shape(y_traing[y_traing==x])[0]/ns)"
   ]
  },
  {
   "cell_type": "code",
   "execution_count": 2,
   "metadata": {
    "colab": {
     "base_uri": "https://localhost:8080/",
     "height": 101
    },
    "colab_type": "code",
    "id": "I47jiSqXRc-2",
    "outputId": "37e77c76-9763-49c2-871b-91a0e75c0d82"
   },
   "outputs": [
    {
     "name": "stdout",
     "output_type": "stream",
     "text": [
      "Fitting 10 folds for each of 9 candidates, totalling 90 fits\n"
     ]
    },
    {
     "name": "stderr",
     "output_type": "stream",
     "text": [
      "[Parallel(n_jobs=-1)]: Using backend LokyBackend with 8 concurrent workers.\n",
      "[Parallel(n_jobs=-1)]: Done  34 tasks      | elapsed:    1.3s\n"
     ]
    },
    {
     "name": "stdout",
     "output_type": "stream",
     "text": [
      "0.7857142857142857\n"
     ]
    },
    {
     "name": "stderr",
     "output_type": "stream",
     "text": [
      "[Parallel(n_jobs=-1)]: Done  90 out of  90 | elapsed:    2.1s finished\n"
     ]
    }
   ],
   "source": [
    "from sklearn.svm import SVC\n",
    "from sklearn.model_selection import GridSearchCV, StratifiedKFold\n",
    "\n",
    "kfold = StratifiedKFold(n_splits=10)\n",
    "\n",
    "svclassifier = SVC()\n",
    "svc_param_grid = {'kernel': ['linear'],\n",
    "                  'C': [0.01, 0.1, 1, 10, 50, 100, 200, 300, 1000]}\n",
    "gsSVM = GridSearchCV(svclassifier,param_grid = svc_param_grid, cv=kfold, scoring=\"accuracy\", n_jobs= -1, verbose = 1)\n",
    "gsSVM.fit(x_traing, y_traing)\n",
    "\n",
    "SVM_best = gsSVM.best_estimator_\n",
    "print(gsSVM.best_score_)"
   ]
  },
  {
   "cell_type": "code",
   "execution_count": 3,
   "metadata": {},
   "outputs": [
    {
     "name": "stdout",
     "output_type": "stream",
     "text": [
      "1.0\n"
     ]
    }
   ],
   "source": [
    "train_data=np.sum(SVM_best.predict(x_traing) == y_traing)/ns\n",
    "print(train_data)"
   ]
  },
  {
   "cell_type": "code",
   "execution_count": 4,
   "metadata": {
    "colab": {},
    "colab_type": "code",
    "id": "bLi1ojnWYI6E"
   },
   "outputs": [
    {
     "name": "stdout",
     "output_type": "stream",
     "text": [
      "(42, 16384)\n",
      "(42,)\n"
     ]
    }
   ],
   "source": [
    "# nt = 1000\n",
    "nt = 112-ns\n",
    "x_test = x_train[ns:][:]\n",
    "y_test = y_train[ns:][:]\n",
    "print(x_test.shape)\n",
    "print(y_test.shape)"
   ]
  },
  {
   "cell_type": "code",
   "execution_count": 5,
   "metadata": {
    "colab": {
     "base_uri": "https://localhost:8080/",
     "height": 34
    },
    "colab_type": "code",
    "id": "7h41m1eLW6Vw",
    "outputId": "fd392683-0c24-4604-db28-3b399d2ecf5b"
   },
   "outputs": [
    {
     "name": "stdout",
     "output_type": "stream",
     "text": [
      "0.7619047619047619\n"
     ]
    }
   ],
   "source": [
    "test_data=np.sum(SVM_best.predict(x_test) == y_test)/nt\n",
    "print(test_data)"
   ]
  },
  {
   "cell_type": "code",
   "execution_count": 6,
   "metadata": {},
   "outputs": [
    {
     "data": {
      "text/plain": [
       "array([0, 0, 0, 0, 0, 0, 0, 0, 0, 0, 0, 0, 0, 0, 0, 0, 0, 0, 0, 0, 0, 0,\n",
       "       0, 0, 0, 0, 0, 0, 0, 0, 0, 0, 0, 0, 0, 0, 0, 0, 0, 0, 0, 0])"
      ]
     },
     "execution_count": 6,
     "metadata": {},
     "output_type": "execute_result"
    }
   ],
   "source": [
    "SVM_best.predict(x_test)"
   ]
  },
  {
   "cell_type": "code",
   "execution_count": 7,
   "metadata": {},
   "outputs": [
    {
     "data": {
      "text/plain": [
       "array([0, 0, 1, 0, 1, 0, 0, 0, 1, 0, 0, 0, 0, 0, 0, 0, 0, 0, 1, 0, 0, 0,\n",
       "       0, 0, 0, 1, 0, 0, 0, 0, 0, 0, 1, 0, 1, 0, 0, 0, 1, 0, 1, 1])"
      ]
     },
     "execution_count": 7,
     "metadata": {},
     "output_type": "execute_result"
    }
   ],
   "source": [
    "y_test"
   ]
  },
  {
   "cell_type": "code",
   "execution_count": 8,
   "metadata": {
    "colab": {
     "base_uri": "https://localhost:8080/",
     "height": 50
    },
    "colab_type": "code",
    "id": "0Ldjota8ZeLz",
    "outputId": "c341cfcc-7621-4a00-d622-b03eb5253218"
   },
   "outputs": [
    {
     "name": "stdout",
     "output_type": "stream",
     "text": [
      "(70, 2048)\n",
      "(70, 2048)\n"
     ]
    }
   ],
   "source": [
    "n = tsize*tsize\n",
    "m = 2**11\n",
    "A = np.random.randn(m,n)\n",
    "B=np.random.binomial(1,0.5,(m,n))\n",
    "B[np.where(B==0)]=-1\n",
    "# x_train_c = np.matmul(x_train, A.T)/m**0.5\n",
    "# x_test_c = np.matmul(x_test, A.T)/m**0.5\n",
    "x_train_g = np.matmul(x_traing, A.T)/m**0.5\n",
    "x_test_g = np.matmul(x_test, A.T)/m**0.5\n",
    "x_train_b = np.matmul(x_traing, B.T)/m**0.5\n",
    "x_test_b = np.matmul(x_test, B.T)/m**0.5\n",
    "print(np.shape(x_train_b))\n",
    "print(np.shape(x_train_g))"
   ]
  },
  {
   "cell_type": "code",
   "execution_count": 9,
   "metadata": {
    "colab": {
     "base_uri": "https://localhost:8080/",
     "height": 101
    },
    "colab_type": "code",
    "id": "gxa0Qf0VbIcp",
    "outputId": "52b768a1-8049-447c-e3c1-119ab6c800c7"
   },
   "outputs": [
    {
     "name": "stdout",
     "output_type": "stream",
     "text": [
      "Fitting 10 folds for each of 9 candidates, totalling 90 fits\n"
     ]
    },
    {
     "name": "stderr",
     "output_type": "stream",
     "text": [
      "[Parallel(n_jobs=-1)]: Using backend LokyBackend with 8 concurrent workers.\n",
      "[Parallel(n_jobs=-1)]: Done  56 tasks      | elapsed:    0.2s\n",
      "[Parallel(n_jobs=-1)]: Done  90 out of  90 | elapsed:    0.2s finished\n"
     ]
    },
    {
     "name": "stdout",
     "output_type": "stream",
     "text": [
      "0.7714285714285714\n",
      "Fitting 10 folds for each of 9 candidates, totalling 90 fits\n",
      "0.7714285714285714\n"
     ]
    },
    {
     "name": "stderr",
     "output_type": "stream",
     "text": [
      "[Parallel(n_jobs=-1)]: Using backend LokyBackend with 8 concurrent workers.\n",
      "[Parallel(n_jobs=-1)]: Done  56 tasks      | elapsed:    0.1s\n",
      "[Parallel(n_jobs=-1)]: Done  90 out of  90 | elapsed:    0.2s finished\n"
     ]
    }
   ],
   "source": [
    "from sklearn.svm import SVC\n",
    "from sklearn.model_selection import GridSearchCV, StratifiedKFold\n",
    "\n",
    "kfold = StratifiedKFold(n_splits=10)\n",
    "\n",
    "svclassifier = SVC()\n",
    "svc_param_grid = {'kernel': ['linear'],\n",
    "                  'C': [0.01, 0.1, 1, 10, 50, 100, 200, 300, 1000]}\n",
    "gsSVM_g = GridSearchCV(svclassifier,param_grid = svc_param_grid, cv=kfold, scoring=\"accuracy\", n_jobs= -1, verbose = 1)\n",
    "gsSVM_g.fit(x_train_g, y_traing)\n",
    "\n",
    "SVM_best_g = gsSVM_g.best_estimator_\n",
    "print(gsSVM_g.best_score_)\n",
    "\n",
    "gsSVM_b = GridSearchCV(svclassifier,param_grid = svc_param_grid, cv=kfold, scoring=\"accuracy\", n_jobs= -1, verbose = 1)\n",
    "gsSVM_b.fit(x_train_b, y_traing)\n",
    "\n",
    "SVM_best_b = gsSVM_b.best_estimator_\n",
    "print(gsSVM_b.best_score_)"
   ]
  },
  {
   "cell_type": "code",
   "execution_count": 10,
   "metadata": {},
   "outputs": [
    {
     "name": "stdout",
     "output_type": "stream",
     "text": [
      "1.0\n",
      "1.0\n"
     ]
    }
   ],
   "source": [
    "train_measurement_gaussian=np.sum(SVM_best_g.predict(x_train_g) == y_traing)/ns\n",
    "print(train_measurement_gaussian)\n",
    "train_measurement_bernoulli=np.sum(SVM_best_b.predict(x_train_b) == y_traing)/ns\n",
    "print(train_measurement_bernoulli)"
   ]
  },
  {
   "cell_type": "code",
   "execution_count": 11,
   "metadata": {
    "colab": {
     "base_uri": "https://localhost:8080/",
     "height": 34
    },
    "colab_type": "code",
    "id": "_0fsW8BUbZWF",
    "outputId": "2b637b8f-1188-4c66-d87e-1e66d94a9f8a"
   },
   "outputs": [
    {
     "name": "stdout",
     "output_type": "stream",
     "text": [
      "0.7142857142857143\n",
      "0.7142857142857143\n"
     ]
    }
   ],
   "source": [
    "test_measurement_gaussian=np.sum(SVM_best_g.predict(x_test_g) == y_test)/nt\n",
    "print(test_measurement_gaussian)\n",
    "test_measurement_bernoulli=np.sum(SVM_best_b.predict(x_test_b) == y_test)/nt\n",
    "print(test_measurement_bernoulli)"
   ]
  },
  {
   "cell_type": "code",
   "execution_count": 12,
   "metadata": {
    "colab": {
     "base_uri": "https://localhost:8080/",
     "height": 84
    },
    "colab_type": "code",
    "id": "aPSH1GguhLhG",
    "outputId": "4f273036-7798-441f-ea87-ffa4f31cf251"
   },
   "outputs": [
    {
     "name": "stdout",
     "output_type": "stream",
     "text": [
      "Stats for Brodatz dataset\n",
      "No. of Training Samples =  70\n",
      "No. of Testing Samples =  42\n",
      "Dimensions of image  128 * 128\n",
      "Number of features in data domain (originally) =  16384\n",
      "Number of measurements taken (No. of features in measurement domain) =  2048\n",
      "Train accuracy in original domain =  1.0\n",
      "Test accuracy in original domain =  0.7619047619047619\n",
      "Train accuracy when random Gaussian matrix used  1.0\n",
      "Test accuracy when random Gaussian matrix used  0.7142857142857143\n",
      "Train accuracy when random Bernoulli matrix used 1.0\n",
      "Test accuracy when random Bernoulli matrix used 0.7142857142857143\n"
     ]
    }
   ],
   "source": [
    "print(\"Stats for Brodatz dataset\")\n",
    "print(\"No. of Training Samples = \",ns)\n",
    "print(\"No. of Testing Samples = \",nt)\n",
    "print(\"Dimensions of image \",tsize,\"*\",tsize)\n",
    "print(\"Number of features in data domain (originally) = \",tsize*tsize)\n",
    "print(\"Number of measurements taken (No. of features in measurement domain) = \",m)\n",
    "print(\"Train accuracy in original domain = \", train_data)\n",
    "print(\"Test accuracy in original domain = \", test_data)\n",
    "print(\"Train accuracy when random Gaussian matrix used \", train_measurement_gaussian)\n",
    "print(\"Test accuracy when random Gaussian matrix used \", test_measurement_gaussian)\n",
    "print(\"Train accuracy when random Bernoulli matrix used\", train_measurement_bernoulli)\n",
    "print(\"Test accuracy when random Bernoulli matrix used\", test_measurement_bernoulli)"
   ]
  },
  {
   "cell_type": "code",
   "execution_count": 13,
   "metadata": {},
   "outputs": [
    {
     "data": {
      "text/plain": [
       "array([0, 0, 0, 0, 0, 0, 0, 0, 0, 0, 0, 0, 0, 0, 0, 1, 0, 0, 0, 0, 0, 0,\n",
       "       0, 0, 0, 0, 0, 0, 0, 0, 0, 0, 0, 0, 0, 0, 0, 0, 0, 1, 0, 0])"
      ]
     },
     "execution_count": 13,
     "metadata": {},
     "output_type": "execute_result"
    }
   ],
   "source": [
    "SVM_best_g.predict(x_test_g)"
   ]
  },
  {
   "cell_type": "code",
   "execution_count": 14,
   "metadata": {},
   "outputs": [
    {
     "data": {
      "text/plain": [
       "array([0, 1, 0, 0, 0, 0, 0, 0, 0, 0, 0, 0, 0, 0, 0, 0, 0, 0, 0, 0, 0, 0,\n",
       "       0, 0, 0, 0, 0, 0, 0, 0, 0, 0, 0, 0, 0, 0, 0, 0, 0, 1, 0, 0])"
      ]
     },
     "execution_count": 14,
     "metadata": {},
     "output_type": "execute_result"
    }
   ],
   "source": [
    "SVM_best_b.predict(x_test_b)"
   ]
  },
  {
   "cell_type": "code",
   "execution_count": 15,
   "metadata": {},
   "outputs": [
    {
     "data": {
      "text/plain": [
       "array([0, 0, 1, 0, 1, 0, 0, 0, 1, 0, 0, 0, 0, 0, 0, 0, 0, 0, 1, 0, 0, 0,\n",
       "       0, 0, 0, 1, 0, 0, 0, 0, 0, 0, 1, 0, 1, 0, 0, 0, 1, 0, 1, 1])"
      ]
     },
     "execution_count": 15,
     "metadata": {},
     "output_type": "execute_result"
    }
   ],
   "source": [
    "y_test"
   ]
  },
  {
   "cell_type": "code",
   "execution_count": 16,
   "metadata": {},
   "outputs": [
    {
     "name": "stdout",
     "output_type": "stream",
     "text": [
      "(70, 16384)\n",
      "(42, 16384)\n",
      "(70, 2048)\n",
      "(42, 2048)\n"
     ]
    }
   ],
   "source": [
    "print(x_traing.shape)\n",
    "print(x_test.shape)\n",
    "print(x_train_b.shape)\n",
    "print(x_test_b.shape)\n"
   ]
  },
  {
   "cell_type": "code",
   "execution_count": null,
   "metadata": {},
   "outputs": [],
   "source": []
  }
 ],
 "metadata": {
  "colab": {
   "name": "mnist-aip.ipynb",
   "provenance": []
  },
  "kernelspec": {
   "display_name": "Python 3",
   "language": "python",
   "name": "python3"
  },
  "language_info": {
   "codemirror_mode": {
    "name": "ipython",
    "version": 3
   },
   "file_extension": ".py",
   "mimetype": "text/x-python",
   "name": "python",
   "nbconvert_exporter": "python",
   "pygments_lexer": "ipython3",
   "version": "3.7.6"
  }
 },
 "nbformat": 4,
 "nbformat_minor": 1
}
